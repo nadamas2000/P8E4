{
 "cells": [
  {
   "cell_type": "markdown",
   "metadata": {},
   "source": [
    "# Problema 8"
   ]
  },
  {
   "cell_type": "code",
   "execution_count": 1,
   "metadata": {
    "ExecuteTime": {
     "end_time": "2019-09-05T07:21:41.947206Z",
     "start_time": "2019-09-05T07:21:41.614Z"
    }
   },
   "outputs": [],
   "source": [
    "# uncomment to install missing libraries\n",
    "# install.packages('nnet')\n",
    "# install.packages('caret')\n",
    "# install.packages('cclust')"
   ]
  },
  {
   "cell_type": "code",
   "execution_count": 2,
   "metadata": {
    "ExecuteTime": {
     "end_time": "2019-09-05T07:21:42.253786Z",
     "start_time": "2019-09-05T07:21:42.200Z"
    }
   },
   "outputs": [],
   "source": [
    "options(repr.plot.width=6, repr.plot.height=6)"
   ]
  },
  {
   "cell_type": "code",
   "execution_count": 3,
   "metadata": {
    "ExecuteTime": {
     "end_time": "2019-09-05T07:21:43.014017Z",
     "start_time": "2019-09-05T07:21:42.928Z"
    }
   },
   "outputs": [
    {
     "name": "stderr",
     "output_type": "stream",
     "text": [
      "Warning message:\n",
      "\"package 'caret' was built under R version 3.5.3\"Loading required package: lattice\n",
      "Loading required package: ggplot2\n",
      "Warning message:\n",
      "\"package 'ggplot2' was built under R version 3.5.3\""
     ]
    }
   ],
   "source": [
    "library(MASS)\n",
    "library(nnet)\n",
    "library(caret)\n",
    "set.seed (4567)"
   ]
  },
  {
   "cell_type": "markdown",
   "metadata": {},
   "source": [
    "## Permeabilitat de roques amb la xarxa MLP [R]"
   ]
  },
  {
   "cell_type": "markdown",
   "metadata": {},
   "source": [
    "Es disposa de 48 mesures de roques d'un dipòsit de petroli. L'objectiu és modelar la permeabilitat en funció de l'àrea, el perímetre i la forma. En primer lloc transformem les dades per ajudar a l'ajust del model:"
   ]
  },
  {
   "cell_type": "code",
   "execution_count": 4,
   "metadata": {
    "ExecuteTime": {
     "end_time": "2019-09-05T07:21:45.482036Z",
     "start_time": "2019-09-05T07:21:45.444Z"
    }
   },
   "outputs": [],
   "source": [
    "library(datasets)\n",
    "data(rock)\n",
    "?rock\n",
    "rock.x <- data.frame(area = scale(rock$area), perim = scale(rock$peri), shape = scale(rock$shape))\n",
    "rock.y <- log(rock$perm)"
   ]
  },
  {
   "cell_type": "markdown",
   "metadata": {},
   "source": [
    "Entreneu una xarxa MLP per aprendre la tasca. Donat el baix número d'exemples, useu leave-one-out cross-validation i regularització per trobar la millor xarxa. Per avaluar el model, feu una gràfica de resposta predita vs. observada i guieu-vos per l'error quadràtic predictiu."
   ]
  },
  {
   "cell_type": "code",
   "execution_count": 5,
   "metadata": {
    "ExecuteTime": {
     "end_time": "2019-09-05T07:21:46.614280Z",
     "start_time": "2019-09-05T07:21:46.502Z"
    }
   },
   "outputs": [
    {
     "data": {
      "text/html": [
       "<table>\n",
       "<caption>A data.frame: 6 × 4</caption>\n",
       "<thead>\n",
       "\t<tr><th scope=col>area</th><th scope=col>peri</th><th scope=col>shape</th><th scope=col>perm</th></tr>\n",
       "\t<tr><th scope=col>&lt;int&gt;</th><th scope=col>&lt;dbl&gt;</th><th scope=col>&lt;dbl&gt;</th><th scope=col>&lt;dbl&gt;</th></tr>\n",
       "</thead>\n",
       "<tbody>\n",
       "\t<tr><td>4990</td><td>2791.90</td><td>0.0903296</td><td> 6.3</td></tr>\n",
       "\t<tr><td>7002</td><td>3892.60</td><td>0.1486220</td><td> 6.3</td></tr>\n",
       "\t<tr><td>7558</td><td>3930.66</td><td>0.1833120</td><td> 6.3</td></tr>\n",
       "\t<tr><td>7352</td><td>3869.32</td><td>0.1170630</td><td> 6.3</td></tr>\n",
       "\t<tr><td>7943</td><td>3948.54</td><td>0.1224170</td><td>17.1</td></tr>\n",
       "\t<tr><td>7979</td><td>4010.15</td><td>0.1670450</td><td>17.1</td></tr>\n",
       "</tbody>\n",
       "</table>\n"
      ],
      "text/latex": [
       "A data.frame: 6 × 4\n",
       "\\begin{tabular}{r|llll}\n",
       " area & peri & shape & perm\\\\\n",
       " <int> & <dbl> & <dbl> & <dbl>\\\\\n",
       "\\hline\n",
       "\t 4990 & 2791.90 & 0.0903296 &  6.3\\\\\n",
       "\t 7002 & 3892.60 & 0.1486220 &  6.3\\\\\n",
       "\t 7558 & 3930.66 & 0.1833120 &  6.3\\\\\n",
       "\t 7352 & 3869.32 & 0.1170630 &  6.3\\\\\n",
       "\t 7943 & 3948.54 & 0.1224170 & 17.1\\\\\n",
       "\t 7979 & 4010.15 & 0.1670450 & 17.1\\\\\n",
       "\\end{tabular}\n"
      ],
      "text/markdown": [
       "\n",
       "A data.frame: 6 × 4\n",
       "\n",
       "| area &lt;int&gt; | peri &lt;dbl&gt; | shape &lt;dbl&gt; | perm &lt;dbl&gt; |\n",
       "|---|---|---|---|\n",
       "| 4990 | 2791.90 | 0.0903296 |  6.3 |\n",
       "| 7002 | 3892.60 | 0.1486220 |  6.3 |\n",
       "| 7558 | 3930.66 | 0.1833120 |  6.3 |\n",
       "| 7352 | 3869.32 | 0.1170630 |  6.3 |\n",
       "| 7943 | 3948.54 | 0.1224170 | 17.1 |\n",
       "| 7979 | 4010.15 | 0.1670450 | 17.1 |\n",
       "\n"
      ],
      "text/plain": [
       "  area peri    shape     perm\n",
       "1 4990 2791.90 0.0903296  6.3\n",
       "2 7002 3892.60 0.1486220  6.3\n",
       "3 7558 3930.66 0.1833120  6.3\n",
       "4 7352 3869.32 0.1170630  6.3\n",
       "5 7943 3948.54 0.1224170 17.1\n",
       "6 7979 4010.15 0.1670450 17.1"
      ]
     },
     "metadata": {},
     "output_type": "display_data"
    },
    {
     "data": {
      "text/html": [
       "48"
      ],
      "text/latex": [
       "48"
      ],
      "text/markdown": [
       "48"
      ],
      "text/plain": [
       "[1] 48"
      ]
     },
     "metadata": {},
     "output_type": "display_data"
    }
   ],
   "source": [
    "head(rock)\n",
    "N <- nrow(rock)\n",
    "N"
   ]
  },
  {
   "cell_type": "markdown",
   "metadata": {},
   "source": [
    "Per a veure quin tipus de dades son veurem el seus histogràmes"
   ]
  },
  {
   "cell_type": "code",
   "execution_count": 6,
   "metadata": {},
   "outputs": [
    {
     "data": {
      "image/png": "[encoded data removed]",
      "text/plain": [
       "Plot with title \"Histograma de permeabilidad\""
      ]
     },
     "metadata": {},
     "output_type": "display_data"
    }
   ],
   "source": [
    "par(mfcol=c(2,2))\n",
    "hist(rock.x$area, main=\"Histograma de area\", xlab=\"A\")\n",
    "hist(rock.x$shape, main=\"Histograma de forma\", xlab=\"P/A\")\n",
    "hist(rock.x$peri, main=\"Histograma de perímetro\", xlab=\"P\")\n",
    "hist(rock.y, main=\"Histograma de permeabilidad\", xlab=expression(mu))"
   ]
  },
  {
   "cell_type": "markdown",
   "metadata": {},
   "source": [
    "Es pot apreciar que tant l'àrea com la forma semblen ser normals; el perímetre sembla ser una combinació de normals i la permeabilitat no te ben definida la seva \"normalitat\".\n",
    "\n",
    "Si presentem les dades respecte a la permeabilitat obtindrem el següent:"
   ]
  },
  {
   "cell_type": "code",
   "execution_count": 7,
   "metadata": {
    "ExecuteTime": {
     "end_time": "2019-09-05T07:21:47.474938Z",
     "start_time": "2019-09-05T07:21:47.446Z"
    }
   },
   "outputs": [
    {
     "data": {
      "image/png": "[encoded data removed]",
      "text/plain": [
       "plot without title"
      ]
     },
     "metadata": {},
     "output_type": "display_data"
    }
   ],
   "source": [
    "plot(rock.x$area, rock.y, col=\"red\", pch=19, asp=1, xlab=\"A (red), P (green) and P/A (blue)\", ylab=expression(mu))\n",
    "points(rock.x$peri, rock.y, col=\"green\",pch=19, asp=1)\n",
    "points(rock.x$shape, rock.y, col=\"blue\",pch=19, asp=1)"
   ]
  },
  {
   "cell_type": "markdown",
   "metadata": {},
   "source": [
    "Les dades d'àrea, perímetre i forma s'alineen en bandes concretes de permeabilitat."
   ]
  },
  {
   "cell_type": "markdown",
   "metadata": {},
   "source": [
    "Primerament hem de definir quantes dades disposarem per l'aprenetatge i quantes per la prova.\n",
    "\n",
    "Seleccionarem a l'atzar 5/6 i 1/6 de les dades."
   ]
  },
  {
   "cell_type": "code",
   "execution_count": 8,
   "metadata": {
    "ExecuteTime": {
     "end_time": "2019-09-05T07:21:48.281350Z",
     "start_time": "2019-09-05T07:21:48.257Z"
    }
   },
   "outputs": [],
   "source": [
    "set.seed(43)\n",
    "\n",
    "learn <- sample(1:N, round(5*N/6))\n",
    "\n",
    "nlearn <- length(learn)\n",
    "ntest <- N - nlearn"
   ]
  },
  {
   "cell_type": "markdown",
   "metadata": {},
   "source": [
    "Farem servir un modelatge no lineal amb un MLP mitjançant la funció nnet()."
   ]
  },
  {
   "cell_type": "code",
   "execution_count": 9,
   "metadata": {
    "ExecuteTime": {
     "end_time": "2019-09-05T07:21:49.265636Z",
     "start_time": "2019-09-05T07:21:49.228Z"
    }
   },
   "outputs": [],
   "source": [
    "?nnet"
   ]
  },
  {
   "cell_type": "markdown",
   "metadata": {},
   "source": [
    "Prepararem tres models, un amb totes les dades, i els altres dos amb dades independents i relacionades.\n",
    "\n",
    "Primerament necesitem escalar les dades per a que el model funcioni correctament.\n",
    "\n"
   ]
  },
  {
   "cell_type": "code",
   "execution_count": 10,
   "metadata": {},
   "outputs": [],
   "source": [
    "rock.scaled <- scale(rock)\n",
    "perm <- log(rock$perm)\n",
    "rock.sum <- data.frame(rock.x, perm)"
   ]
  },
  {
   "cell_type": "markdown",
   "metadata": {},
   "source": [
    "I després creem el model amb totes les dades."
   ]
  },
  {
   "cell_type": "code",
   "execution_count": 11,
   "metadata": {},
   "outputs": [
    {
     "name": "stdout",
     "output_type": "stream",
     "text": [
      "# weights:  11\n",
      "initial  value 1123.861262 \n",
      "iter  10 value 26.350641\n",
      "iter  20 value 12.611025\n",
      "iter  30 value 9.444761\n",
      "iter  40 value 7.981863\n",
      "iter  50 value 7.401326\n",
      "iter  60 value 7.049006\n",
      "iter  70 value 6.961036\n",
      "iter  80 value 6.942333\n",
      "iter  90 value 6.880056\n",
      "iter 100 value 6.878624\n",
      "final  value 6.878410 \n",
      "converged\n"
     ]
    }
   ],
   "source": [
    "model.nnet <- nnet(perm ~., data = rock.sum, subset=learn, size=2, maxit=500, decay=0, linout = TRUE)"
   ]
  },
  {
   "cell_type": "markdown",
   "metadata": {},
   "source": [
    "Aquest es el valor final de l'error"
   ]
  },
  {
   "cell_type": "code",
   "execution_count": 12,
   "metadata": {},
   "outputs": [
    {
     "data": {
      "text/html": [
       "6.87841027020836"
      ],
      "text/latex": [
       "6.87841027020836"
      ],
      "text/markdown": [
       "6.87841027020836"
      ],
      "text/plain": [
       "[1] 6.87841"
      ]
     },
     "metadata": {},
     "output_type": "display_data"
    }
   ],
   "source": [
    "model.nnet$value"
   ]
  },
  {
   "cell_type": "markdown",
   "metadata": {},
   "source": [
    "Sobre el model donem un ull als valors ajustats i residuals."
   ]
  },
  {
   "cell_type": "code",
   "execution_count": 13,
   "metadata": {},
   "outputs": [
    {
     "name": "stdout",
     "output_type": "stream",
     "text": [
      "   Fit. val.   Residuals\n",
      "24  4.637180  0.31864707\n",
      "43  6.754654  0.41546604\n",
      "3   2.268472 -0.42792214\n",
      "32  6.778355  0.01286677\n",
      "14  4.637249 -0.22566312\n",
      "48  6.778360 -0.41533171\n",
      "29  6.707924  0.08329731\n",
      "21  4.637162  0.31866534\n",
      "8   2.268347  0.57073138\n",
      "35  6.778359  0.07810283\n",
      "15  4.637130 -0.22554504\n",
      "6   2.270300  0.56877807\n",
      "47  6.771476 -0.40844830\n",
      "10  4.565882  0.21324123\n",
      "17  4.637078 -0.56634342\n",
      "23  4.637163  0.31866419\n",
      "40  6.102380 -1.49720969\n",
      "7   2.757243  0.08183533\n",
      "1   2.313907 -0.47335771\n",
      "4   2.268455 -0.42790545\n",
      "28  6.738657 -0.13200693\n",
      "36  6.778355  0.07810729\n",
      "5   2.280783  0.55829572\n",
      "30  6.676996  0.11422522\n",
      "9   4.636742  0.14238151\n",
      "42  6.659274  0.51084544\n",
      "20  4.095511 -0.02477668\n",
      "13  4.637246 -0.22566033\n",
      "38  4.902545 -0.29737468\n",
      "45  6.312180  0.05084839\n",
      "18  4.128029 -0.05729420\n",
      "46  6.079185  0.28384295\n",
      "22  4.637198  0.31862948\n",
      "25  5.689161  0.91748908\n",
      "16  4.637261 -0.22567552\n",
      "27  6.775712 -0.16906148\n",
      "31  6.749535  0.04168647\n",
      "26  6.454676  0.15197438\n",
      "34  6.777824  0.07863810\n",
      "2   2.268347 -0.42779745\n"
     ]
    }
   ],
   "source": [
    "fval_res <- cbind(matrix=model.nnet$fitted.values, model.nnet$residuals)\n",
    "colnames(fval_res) <- c(\"Fit. val.\", \"Residuals\")\n",
    "print(fval_res)"
   ]
  },
  {
   "cell_type": "markdown",
   "metadata": {},
   "source": [
    "I als pessos"
   ]
  },
  {
   "cell_type": "code",
   "execution_count": 14,
   "metadata": {},
   "outputs": [
    {
     "data": {
      "text/html": [
       "<ol class=list-inline>\n",
       "\t<li>-5.04119237450546</li>\n",
       "\t<li>10.3682420039035</li>\n",
       "\t<li>-19.2779728782422</li>\n",
       "\t<li>-1.71128172614107</li>\n",
       "\t<li>26.3564108636838</li>\n",
       "\t<li>33.5601719947266</li>\n",
       "\t<li>-47.0815403554389</li>\n",
       "\t<li>-0.523002720308567</li>\n",
       "\t<li>2.26834708114237</li>\n",
       "\t<li>2.14120083333559</li>\n",
       "\t<li>2.36881190017261</li>\n",
       "</ol>\n"
      ],
      "text/latex": [
       "\\begin{enumerate*}\n",
       "\\item -5.04119237450546\n",
       "\\item 10.3682420039035\n",
       "\\item -19.2779728782422\n",
       "\\item -1.71128172614107\n",
       "\\item 26.3564108636838\n",
       "\\item 33.5601719947266\n",
       "\\item -47.0815403554389\n",
       "\\item -0.523002720308567\n",
       "\\item 2.26834708114237\n",
       "\\item 2.14120083333559\n",
       "\\item 2.36881190017261\n",
       "\\end{enumerate*}\n"
      ],
      "text/markdown": [
       "1. -5.04119237450546\n",
       "2. 10.3682420039035\n",
       "3. -19.2779728782422\n",
       "4. -1.71128172614107\n",
       "5. 26.3564108636838\n",
       "6. 33.5601719947266\n",
       "7. -47.0815403554389\n",
       "8. -0.523002720308567\n",
       "9. 2.26834708114237\n",
       "10. 2.14120083333559\n",
       "11. 2.36881190017261\n",
       "\n",
       "\n"
      ],
      "text/plain": [
       " [1]  -5.0411924  10.3682420 -19.2779729  -1.7112817  26.3564109  33.5601720\n",
       " [7] -47.0815404  -0.5230027   2.2683471   2.1412008   2.3688119"
      ]
     },
     "metadata": {},
     "output_type": "display_data"
    }
   ],
   "source": [
    "model.nnet$wts"
   ]
  },
  {
   "cell_type": "code",
   "execution_count": 15,
   "metadata": {},
   "outputs": [
    {
     "data": {
      "text/plain": [
       "a 3-2-1 network with 11 weights\n",
       "options were - linear output units \n",
       " b->h1 i1->h1 i2->h1 i3->h1 \n",
       " -5.04  10.37 -19.28  -1.71 \n",
       " b->h2 i1->h2 i2->h2 i3->h2 \n",
       " 26.36  33.56 -47.08  -0.52 \n",
       "  b->o  h1->o  h2->o \n",
       "  2.27   2.14   2.37 "
      ]
     },
     "metadata": {},
     "output_type": "display_data"
    }
   ],
   "source": [
    "summary(model.nnet)"
   ]
  },
  {
   "cell_type": "markdown",
   "metadata": {},
   "source": [
    "El model consta de 5 neurones i 11 pessos"
   ]
  },
  {
   "cell_type": "markdown",
   "metadata": {},
   "source": [
    "Un cop tenim el model separarem les dades de prova."
   ]
  },
  {
   "cell_type": "code",
   "execution_count": 16,
   "metadata": {},
   "outputs": [],
   "source": [
    "testData <- rock.sum[-learn,]"
   ]
  },
  {
   "cell_type": "markdown",
   "metadata": {},
   "source": [
    "Amb aquestes dades creem la predicció sobre les dades prova i en treiem l'error quadratic (mean squared error)."
   ]
  },
  {
   "cell_type": "code",
   "execution_count": 17,
   "metadata": {},
   "outputs": [
    {
     "data": {
      "text/html": [
       "1.41524590654373"
      ],
      "text/latex": [
       "1.41524590654373"
      ],
      "text/markdown": [
       "1.41524590654373"
      ],
      "text/plain": [
       "[1] 1.415246"
      ]
     },
     "metadata": {},
     "output_type": "display_data"
    }
   ],
   "source": [
    "pred <- predict(model.nnet, newdata=testData, CV=TRUE, type=\"raw\")\n",
    "\n",
    "mse <- sum((testData$perm - pred)^2) / ntest\n",
    "mse"
   ]
  },
  {
   "cell_type": "markdown",
   "metadata": {},
   "source": [
    "Amb les dades ja podem veure en gràfiques quina diferència hi ha entre les dades reals i les predites.\n",
    "\n",
    "Les primeres tres gràfiques podem comparar les distancies entre els valors de les dades originals y les predites.\n",
    "\n",
    "La última podem veure la comparació de les dades, que com mes properes a la diagonal més iguals son."
   ]
  },
  {
   "cell_type": "code",
   "execution_count": 18,
   "metadata": {},
   "outputs": [
    {
     "data": {
      "image/png": "[encoded data removed]",
      "text/plain": [
       "Plot with title \"Original vs predit\""
      ]
     },
     "metadata": {},
     "output_type": "display_data"
    }
   ],
   "source": [
    "par(mfcol=c(2,2))\n",
    "\n",
    "margins.y <- list(max(max(testData$perm), max(pred)), min(min(testData$perm), min(pred)))\n",
    "margins.x <- list(max(testData$area), min(testData$area))\n",
    "margins <- data.frame(x = margins.x, y = margins.y)\n",
    "\n",
    "plot(margins.x, margins.y, col=\"white\", asp=1, xlab=\"A\", ylab=expression(mu), main=\"Respecte a l'àrea: \\n original(negre) i predit(vermell)\")\n",
    "text(testData$area, testData$perm, col=\"black\")\n",
    "text(testData$area, pred, col=\"red\")\n",
    "\n",
    "margins.x <- list(max(testData$peri), min(testData$peri))\n",
    "\n",
    "plot(margins.x, margins.y, col=\"white\", asp=1, xlab=\"P\", ylab=expression(mu), main=\"Respecte al perímegre: \\n original(negre) i predit(vermell)\")\n",
    "text(testData$peri, testData$perm, col=\"black\")\n",
    "text(testData$peri, pred, col=\"red\")\n",
    "\n",
    "margins.x <- list(max(testData$shape), min(testData$shape))\n",
    "\n",
    "plot(margins.x, margins.y, col=\"white\", asp=1, xlab=\"P/A\", ylab=expression(mu), main=\"Respecte a la forma: \\n original(negre) i predit(vermell)\")\n",
    "text(testData$shape, testData$perm, col=\"black\")\n",
    "text(testData$shape, pred, col=\"red\")\n",
    "\n",
    "plot(margins.y, margins.y, col=\"white\", main=\"Original vs predit\", xlab=\"Original\", ylab=\"Predicció\")\n",
    "abline(coef = c(0,1), col=\"blue\")\n",
    "text(testData$perm, pred)"
   ]
  }
 ],
 "metadata": {
  "kernelspec": {
   "display_name": "R",
   "language": "R",
   "name": "ir"
  },
  "language_info": {
   "codemirror_mode": "r",
   "file_extension": ".r",
   "mimetype": "text/x-r-source",
   "name": "R",
   "pygments_lexer": "r",
   "version": "3.5.2"
  },
  "latex_envs": {
   "LaTeX_envs_menu_present": true,
   "autoclose": false,
   "autocomplete": true,
   "bibliofile": "biblio.bib",
   "cite_by": "apalike",
   "current_citInitial": 1,
   "eqLabelWithNumbers": true,
   "eqNumInitial": 1,
   "hotkeys": {
    "equation": "Ctrl-E",
    "itemize": "Ctrl-I"
   },
   "labels_anchors": false,
   "latex_user_defs": false,
   "report_style_numbering": false,
   "user_envs_cfg": false
  },
  "toc": {
   "base_numbering": 1,
   "nav_menu": {
    "height": "100px",
    "width": "252px"
   },
   "number_sections": true,
   "sideBar": true,
   "skip_h1_title": false,
   "title_cell": "Table of Contents",
   "title_sidebar": "Contents",
   "toc_cell": false,
   "toc_position": {},
   "toc_section_display": "block",
   "toc_window_display": true
  }
 },
 "nbformat": 4,
 "nbformat_minor": 2
}
