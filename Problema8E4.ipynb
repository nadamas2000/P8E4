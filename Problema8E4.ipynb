{
 "cells": [
  {
   "cell_type": "markdown",
   "metadata": {},
   "source": [
    "# Problema 8"
   ]
  },
  {
   "cell_type": "code",
   "execution_count": 1,
   "metadata": {
    "ExecuteTime": {
     "end_time": "2019-09-05T07:21:41.947206Z",
     "start_time": "2019-09-05T07:21:41.614Z"
    }
   },
   "outputs": [],
   "source": [
    "# uncomment to install missing libraries\n",
    "# install.packages('nnet')\n",
    "# install.packages('caret')\n",
    "# install.packages('cclust')"
   ]
  },
  {
   "cell_type": "code",
   "execution_count": 2,
   "metadata": {
    "ExecuteTime": {
     "end_time": "2019-09-05T07:21:42.253786Z",
     "start_time": "2019-09-05T07:21:42.200Z"
    }
   },
   "outputs": [],
   "source": [
    "options(repr.plot.width=6, repr.plot.height=6)"
   ]
  },
  {
   "cell_type": "code",
   "execution_count": 3,
   "metadata": {
    "ExecuteTime": {
     "end_time": "2019-09-05T07:21:43.014017Z",
     "start_time": "2019-09-05T07:21:42.928Z"
    }
   },
   "outputs": [],
   "source": [
    "library(MASS)\n",
    "library(nnet)\n",
    "set.seed (4567)"
   ]
  },
  {
   "cell_type": "markdown",
   "metadata": {},
   "source": [
    "## Permeabilitat de roques amb la xarxa MLP [R]"
   ]
  },
  {
   "cell_type": "markdown",
   "metadata": {},
   "source": [
    "Es disposa de 48 mesures de roques d'un dipòsit de petroli. L'objectiu és modelar la permeabilitat en funció de l'àrea, el perímetre i la forma. En primer lloc transformem les dades per ajudar a l'ajust del model:"
   ]
  },
  {
   "cell_type": "code",
   "execution_count": 4,
   "metadata": {
    "ExecuteTime": {
     "end_time": "2019-09-05T07:21:45.482036Z",
     "start_time": "2019-09-05T07:21:45.444Z"
    }
   },
   "outputs": [],
   "source": [
    "library(datasets)\n",
    "data(rock)\n",
    "?rock\n",
    "rock.x <- data.frame(area = scale(rock$area), perim = scale(rock$peri), shape = scale(rock$shape))\n",
    "rock.y <- log(rock$perm)"
   ]
  },
  {
   "cell_type": "markdown",
   "metadata": {},
   "source": [
    "Entreneu una xarxa MLP per aprendre la tasca. Donat el baix número d'exemples, useu leave-one-out cross-validation i regularització per trobar la millor xarxa. Per avaluar el model, feu una gràfica de resposta predita vs. observada i guieu-vos per l'error quadràtic predictiu."
   ]
  },
  {
   "cell_type": "code",
   "execution_count": 5,
   "metadata": {
    "ExecuteTime": {
     "end_time": "2019-09-05T07:21:46.614280Z",
     "start_time": "2019-09-05T07:21:46.502Z"
    }
   },
   "outputs": [
    {
     "data": {
      "text/html": [
       "<table>\n",
       "<caption>A data.frame: 6 × 4</caption>\n",
       "<thead>\n",
       "\t<tr><th scope=col>area</th><th scope=col>peri</th><th scope=col>shape</th><th scope=col>perm</th></tr>\n",
       "\t<tr><th scope=col>&lt;int&gt;</th><th scope=col>&lt;dbl&gt;</th><th scope=col>&lt;dbl&gt;</th><th scope=col>&lt;dbl&gt;</th></tr>\n",
       "</thead>\n",
       "<tbody>\n",
       "\t<tr><td>4990</td><td>2791.90</td><td>0.0903296</td><td> 6.3</td></tr>\n",
       "\t<tr><td>7002</td><td>3892.60</td><td>0.1486220</td><td> 6.3</td></tr>\n",
       "\t<tr><td>7558</td><td>3930.66</td><td>0.1833120</td><td> 6.3</td></tr>\n",
       "\t<tr><td>7352</td><td>3869.32</td><td>0.1170630</td><td> 6.3</td></tr>\n",
       "\t<tr><td>7943</td><td>3948.54</td><td>0.1224170</td><td>17.1</td></tr>\n",
       "\t<tr><td>7979</td><td>4010.15</td><td>0.1670450</td><td>17.1</td></tr>\n",
       "</tbody>\n",
       "</table>\n"
      ],
      "text/latex": [
       "A data.frame: 6 × 4\n",
       "\\begin{tabular}{r|llll}\n",
       " area & peri & shape & perm\\\\\n",
       " <int> & <dbl> & <dbl> & <dbl>\\\\\n",
       "\\hline\n",
       "\t 4990 & 2791.90 & 0.0903296 &  6.3\\\\\n",
       "\t 7002 & 3892.60 & 0.1486220 &  6.3\\\\\n",
       "\t 7558 & 3930.66 & 0.1833120 &  6.3\\\\\n",
       "\t 7352 & 3869.32 & 0.1170630 &  6.3\\\\\n",
       "\t 7943 & 3948.54 & 0.1224170 & 17.1\\\\\n",
       "\t 7979 & 4010.15 & 0.1670450 & 17.1\\\\\n",
       "\\end{tabular}\n"
      ],
      "text/markdown": [
       "\n",
       "A data.frame: 6 × 4\n",
       "\n",
       "| area &lt;int&gt; | peri &lt;dbl&gt; | shape &lt;dbl&gt; | perm &lt;dbl&gt; |\n",
       "|---|---|---|---|\n",
       "| 4990 | 2791.90 | 0.0903296 |  6.3 |\n",
       "| 7002 | 3892.60 | 0.1486220 |  6.3 |\n",
       "| 7558 | 3930.66 | 0.1833120 |  6.3 |\n",
       "| 7352 | 3869.32 | 0.1170630 |  6.3 |\n",
       "| 7943 | 3948.54 | 0.1224170 | 17.1 |\n",
       "| 7979 | 4010.15 | 0.1670450 | 17.1 |\n",
       "\n"
      ],
      "text/plain": [
       "  area peri    shape     perm\n",
       "1 4990 2791.90 0.0903296  6.3\n",
       "2 7002 3892.60 0.1486220  6.3\n",
       "3 7558 3930.66 0.1833120  6.3\n",
       "4 7352 3869.32 0.1170630  6.3\n",
       "5 7943 3948.54 0.1224170 17.1\n",
       "6 7979 4010.15 0.1670450 17.1"
      ]
     },
     "metadata": {},
     "output_type": "display_data"
    }
   ],
   "source": [
    "head(rock)\n",
    "N <- nrow(rock)"
   ]
  },
  {
   "cell_type": "markdown",
   "metadata": {},
   "source": [
    " We will treat all the variables gre and gpa as continuous. \n",
    "\n",
    "The variable rank takes on the values 1 through 4, so we can fairly treat it as numerical\n",
    "(although, in rigour, it is ordinal)"
   ]
  },
  {
   "cell_type": "code",
   "execution_count": 6,
   "metadata": {},
   "outputs": [
    {
     "data": {
      "image/png": "[encoded data removed]",
      "text/plain": [
       "Plot with title “Histogram of rock.y”"
      ]
     },
     "metadata": {},
     "output_type": "display_data"
    }
   ],
   "source": [
    "par(mfcol=c(2,2))\n",
    "hist(rock.x$area)\n",
    "hist(rock.x$peri)\n",
    "hist(rock.x$shape)\n",
    "hist(rock.y)"
   ]
  },
  {
   "cell_type": "code",
   "execution_count": 39,
   "metadata": {
    "ExecuteTime": {
     "end_time": "2019-09-05T07:21:47.474938Z",
     "start_time": "2019-09-05T07:21:47.446Z"
    }
   },
   "outputs": [
    {
     "data": {
      "image/png": "[encoded data removed]",
      "text/plain": [
       "plot without title"
      ]
     },
     "metadata": {},
     "output_type": "display_data"
    }
   ],
   "source": [
    "plot(rock.x$area, rock.y, col=\"red\", pch=19, asp=1, xlab=\"area (red), peri (green) and shape (blue)\", ylab=\"perm\")\n",
    "points(rock.x$peri, rock.y, col=\"green\",pch=19, asp=1)\n",
    "points(rock.x$shape, rock.y, col=\"blue\",pch=19, asp=1)"
   ]
  },
  {
   "cell_type": "code",
   "execution_count": 40,
   "metadata": {},
   "outputs": [
    {
     "data": {
      "text/html": [
       "<table>\n",
       "<caption>A data.frame: 6 × 4</caption>\n",
       "<thead>\n",
       "\t<tr><th scope=col>area</th><th scope=col>peri</th><th scope=col>shape</th><th scope=col>perm</th></tr>\n",
       "\t<tr><th scope=col>&lt;dbl&gt;</th><th scope=col>&lt;dbl&gt;</th><th scope=col>&lt;dbl&gt;</th><th scope=col>&lt;dbl&gt;</th></tr>\n",
       "</thead>\n",
       "<tbody>\n",
       "\t<tr><td>-0.81887218</td><td>0.07661594</td><td>-1.5303744</td><td>-0.9345203</td></tr>\n",
       "\t<tr><td>-0.06920254</td><td>0.84544311</td><td>-0.8322322</td><td>-0.9345203</td></tr>\n",
       "\t<tr><td> 0.13796262</td><td>0.87202761</td><td>-0.4167654</td><td>-0.9345203</td></tr>\n",
       "\t<tr><td> 0.06120718</td><td>0.82918228</td><td>-1.2102003</td><td>-0.9345203</td></tr>\n",
       "\t<tr><td> 0.28141333</td><td>0.88451660</td><td>-1.1460778</td><td>-0.9098525</td></tr>\n",
       "\t<tr><td> 0.29482690</td><td>0.92755052</td><td>-0.6115880</td><td>-0.9098525</td></tr>\n",
       "</tbody>\n",
       "</table>\n"
      ],
      "text/latex": [
       "A data.frame: 6 × 4\n",
       "\\begin{tabular}{r|llll}\n",
       " area & peri & shape & perm\\\\\n",
       " <dbl> & <dbl> & <dbl> & <dbl>\\\\\n",
       "\\hline\n",
       "\t -0.81887218 & 0.07661594 & -1.5303744 & -0.9345203\\\\\n",
       "\t -0.06920254 & 0.84544311 & -0.8322322 & -0.9345203\\\\\n",
       "\t  0.13796262 & 0.87202761 & -0.4167654 & -0.9345203\\\\\n",
       "\t  0.06120718 & 0.82918228 & -1.2102003 & -0.9345203\\\\\n",
       "\t  0.28141333 & 0.88451660 & -1.1460778 & -0.9098525\\\\\n",
       "\t  0.29482690 & 0.92755052 & -0.6115880 & -0.9098525\\\\\n",
       "\\end{tabular}\n"
      ],
      "text/markdown": [
       "\n",
       "A data.frame: 6 × 4\n",
       "\n",
       "| area &lt;dbl&gt; | peri &lt;dbl&gt; | shape &lt;dbl&gt; | perm &lt;dbl&gt; |\n",
       "|---|---|---|---|\n",
       "| -0.81887218 | 0.07661594 | -1.5303744 | -0.9345203 |\n",
       "| -0.06920254 | 0.84544311 | -0.8322322 | -0.9345203 |\n",
       "|  0.13796262 | 0.87202761 | -0.4167654 | -0.9345203 |\n",
       "|  0.06120718 | 0.82918228 | -1.2102003 | -0.9345203 |\n",
       "|  0.28141333 | 0.88451660 | -1.1460778 | -0.9098525 |\n",
       "|  0.29482690 | 0.92755052 | -0.6115880 | -0.9098525 |\n",
       "\n"
      ],
      "text/plain": [
       "  area        peri       shape      perm      \n",
       "1 -0.81887218 0.07661594 -1.5303744 -0.9345203\n",
       "2 -0.06920254 0.84544311 -0.8322322 -0.9345203\n",
       "3  0.13796262 0.87202761 -0.4167654 -0.9345203\n",
       "4  0.06120718 0.82918228 -1.2102003 -0.9345203\n",
       "5  0.28141333 0.88451660 -1.1460778 -0.9098525\n",
       "6  0.29482690 0.92755052 -0.6115880 -0.9098525"
      ]
     },
     "metadata": {},
     "output_type": "display_data"
    }
   ],
   "source": [
    "rockScale <- data.frame(area = scale(rock$area),\n",
    "                        peri = scale(rock$peri),\n",
    "                        shape = scale(rock$shape),\n",
    "                        perm = scale(rock$perm))\n",
    "head(rockScale)"
   ]
  },
  {
   "cell_type": "code",
   "execution_count": 9,
   "metadata": {},
   "outputs": [
    {
     "data": {
      "image/png": "[encoded data removed]",
      "text/plain": [
       "plot without title"
      ]
     },
     "metadata": {},
     "output_type": "display_data"
    }
   ],
   "source": [
    "plot(rock.x)"
   ]
  },
  {
   "cell_type": "code",
   "execution_count": 41,
   "metadata": {},
   "outputs": [
    {
     "data": {
      "image/png": "[encoded data removed]",
      "text/plain": [
       "Plot with title “Histogram of rockScale$perm”"
      ]
     },
     "metadata": {},
     "output_type": "display_data"
    }
   ],
   "source": [
    "par(mfcol=c(2,2))\n",
    "hist(rockScale$area)\n",
    "hist(rockScale$peri)\n",
    "hist(rockScale$shape)\n",
    "hist(rockScale$perm)"
   ]
  },
  {
   "cell_type": "markdown",
   "metadata": {},
   "source": [
    " We first split the available data into learning and test sets, selecting randomly 2/3 and 1/3 of the data\n",
    " We do this for a honest estimation of prediction performance"
   ]
  },
  {
   "cell_type": "code",
   "execution_count": 42,
   "metadata": {
    "ExecuteTime": {
     "end_time": "2019-09-05T07:21:48.281350Z",
     "start_time": "2019-09-05T07:21:48.257Z"
    }
   },
   "outputs": [],
   "source": [
    "set.seed(43)\n",
    "\n",
    "learn <- sample(1:N, round(2*N/3))\n",
    "\n",
    "nlearn <- length(learn)\n",
    "ntest <- N - nlearn"
   ]
  },
  {
   "cell_type": "markdown",
   "metadata": {},
   "source": [
    "We start using logistic regression (a linear classifier)"
   ]
  },
  {
   "cell_type": "code",
   "execution_count": 43,
   "metadata": {
    "ExecuteTime": {
     "end_time": "2019-09-05T07:21:49.265636Z",
     "start_time": "2019-09-05T07:21:49.228Z"
    }
   },
   "outputs": [
    {
     "data": {
      "text/plain": [
       "\n",
       "Call:\n",
       "glm(formula = perm ~ ., family = gaussian, data = rockScale[learn, \n",
       "    ])\n",
       "\n",
       "Deviance Residuals: \n",
       "     Min        1Q    Median        3Q       Max  \n",
       "-1.36929  -0.15008   0.08179   0.24061   1.06200  \n",
       "\n",
       "Coefficients:\n",
       "            Estimate Std. Error t value Pr(>|t|)    \n",
       "(Intercept)  0.04305    0.09405   0.458   0.6506    \n",
       "area         0.28783    0.16978   1.695   0.1011    \n",
       "peri        -0.92231    0.18331  -5.031 2.55e-05 ***\n",
       "shape        0.33543    0.13281   2.526   0.0175 *  \n",
       "---\n",
       "Signif. codes:  0 ‘***’ 0.001 ‘**’ 0.01 ‘*’ 0.05 ‘.’ 0.1 ‘ ’ 1\n",
       "\n",
       "(Dispersion parameter for gaussian family taken to be 0.2703587)\n",
       "\n",
       "    Null deviance: 30.067  on 31  degrees of freedom\n",
       "Residual deviance:  7.570  on 28  degrees of freedom\n",
       "AIC: 54.683\n",
       "\n",
       "Number of Fisher Scoring iterations: 2\n"
      ]
     },
     "metadata": {},
     "output_type": "display_data"
    }
   ],
   "source": [
    "model.logreg <- glm (perm~., data=rockScale[learn,], family=gaussian)\n",
    "summary(model.logreg)"
   ]
  },
  {
   "cell_type": "markdown",
   "metadata": {},
   "source": [
    "Simplify the model using the AIC"
   ]
  },
  {
   "cell_type": "code",
   "execution_count": 44,
   "metadata": {
    "ExecuteTime": {
     "end_time": "2019-09-05T07:21:50.472206Z",
     "start_time": "2019-09-05T07:21:50.441Z"
    }
   },
   "outputs": [
    {
     "name": "stdout",
     "output_type": "stream",
     "text": [
      "Start:  AIC=54.68\n",
      "perm ~ area + peri + shape\n",
      "\n",
      "        Df Deviance    AIC\n",
      "<none>       7.5700 54.683\n",
      "- area   1   8.3471 55.810\n",
      "- shape  1   9.2945 59.250\n",
      "- peri   1  14.4141 73.291\n"
     ]
    }
   ],
   "source": [
    "model.logreg2 <- step(model.logreg, family=gaussian)"
   ]
  },
  {
   "cell_type": "markdown",
   "metadata": {},
   "source": [
    " The new model has one variable less and the error (residual deviance) is virtually the same (313.5 vs 312.2)\n",
    "\n",
    " Interpretation of the coefficients"
   ]
  },
  {
   "cell_type": "code",
   "execution_count": 45,
   "metadata": {
    "ExecuteTime": {
     "end_time": "2019-09-05T07:21:51.569871Z",
     "start_time": "2019-09-05T07:21:51.497Z"
    }
   },
   "outputs": [
    {
     "data": {
      "text/html": [
       "<dl class=dl-horizontal>\n",
       "\t<dt>(Intercept)</dt>\n",
       "\t\t<dd>1.04399344354239</dd>\n",
       "\t<dt>area</dt>\n",
       "\t\t<dd>1.33353197686313</dd>\n",
       "\t<dt>peri</dt>\n",
       "\t\t<dd>0.397599305937696</dd>\n",
       "\t<dt>shape</dt>\n",
       "\t\t<dd>1.39853689369723</dd>\n",
       "</dl>\n"
      ],
      "text/latex": [
       "\\begin{description*}\n",
       "\\item[(Intercept)] 1.04399344354239\n",
       "\\item[area] 1.33353197686313\n",
       "\\item[peri] 0.397599305937696\n",
       "\\item[shape] 1.39853689369723\n",
       "\\end{description*}\n"
      ],
      "text/markdown": [
       "(Intercept)\n",
       ":   1.04399344354239area\n",
       ":   1.33353197686313peri\n",
       ":   0.397599305937696shape\n",
       ":   1.39853689369723\n",
       "\n"
      ],
      "text/plain": [
       "(Intercept)        area        peri       shape \n",
       "  1.0439934   1.3335320   0.3975993   1.3985369 "
      ]
     },
     "metadata": {},
     "output_type": "display_data"
    }
   ],
   "source": [
    "exp(model.logreg2$coefficients)"
   ]
  },
  {
   "cell_type": "markdown",
   "metadata": {},
   "source": [
    "Calculation of apparent error in the training set (learn)"
   ]
  },
  {
   "cell_type": "code",
   "execution_count": 47,
   "metadata": {
    "ExecuteTime": {
     "end_time": "2019-09-05T07:21:52.584668Z",
     "start_time": "2019-09-05T07:21:52.540Z"
    }
   },
   "outputs": [
    {
     "data": {
      "text/plain": [
       "                    glfpred\n",
       "                     0 1\n",
       "  -0.934520254211691 4 0\n",
       "  -0.909852482623065 3 0\n",
       "  -0.815064286240845 2 0\n",
       "  -0.760703826628874 2 0\n",
       "  -0.720504495151113 1 1\n",
       "  -0.677107489578531 1 0\n",
       "  -0.624574272306457 4 0\n",
       "  0.375840908787813  0 3\n",
       "  0.741289376767455  2 1\n",
       "  1.08389731549837   0 2\n",
       "  1.22094049099074   0 4\n",
       "  2.0203590146962    0 2"
      ]
     },
     "metadata": {},
     "output_type": "display_data"
    },
    {
     "data": {
      "text/html": [
       "87.5"
      ],
      "text/latex": [
       "87.5"
      ],
      "text/markdown": [
       "87.5"
      ],
      "text/plain": [
       "[1] 87.5"
      ]
     },
     "metadata": {},
     "output_type": "display_data"
    }
   ],
   "source": [
    "glfpred=NULL\n",
    "glfpred[model.logreg2$fitted.values<0.5]=0\n",
    "glfpred[model.logreg2$fitted.values>=0.5]=1\n",
    "table(rockScale$perm[learn],glfpred)\n",
    "error_rate.learn <- 100*(1-sum(diag(table(rockScale$perm[learn],glfpred)))/nlearn)\n",
    "error_rate.learn"
   ]
  },
  {
   "cell_type": "code",
   "execution_count": null,
   "metadata": {},
   "outputs": [],
   "source": []
  },
  {
   "cell_type": "markdown",
   "metadata": {},
   "source": [
    " we get a learning error which is quite high (28.84%)\n",
    "\n",
    " Estimation of prediction error using the test set"
   ]
  },
  {
   "cell_type": "code",
   "execution_count": 49,
   "metadata": {
    "ExecuteTime": {
     "end_time": "2019-09-05T07:21:53.594390Z",
     "start_time": "2019-09-05T07:21:53.556Z"
    }
   },
   "outputs": [
    {
     "data": {
      "text/plain": [
       "                    glfpredt\n",
       "                     0 1\n",
       "  -0.909852482623065 1 0\n",
       "  -0.815064286240845 2 0\n",
       "  -0.760703826628874 2 0\n",
       "  -0.720504495151113 2 0\n",
       "  -0.677107489578531 3 0\n",
       "  0.375840908787813  1 0\n",
       "  0.741289376767455  0 1\n",
       "  1.08389731549837   0 2\n",
       "  2.0203590146962    0 2"
      ]
     },
     "metadata": {},
     "output_type": "display_data"
    },
    {
     "data": {
      "text/html": [
       "93.75"
      ],
      "text/latex": [
       "93.75"
      ],
      "text/markdown": [
       "93.75"
      ],
      "text/plain": [
       "[1] 93.75"
      ]
     },
     "metadata": {},
     "output_type": "display_data"
    }
   ],
   "source": [
    "glft = predict(model.logreg2, newdata=rock[-learn,]) \n",
    "pt = 1/(1+exp(-glft))\n",
    "glfpredt = NULL\n",
    "glfpredt[pt<0.5]=0\n",
    "glfpredt[pt>=0.5]=1\n",
    "table(rockScale$perm[-learn],glfpredt)\n",
    "error_rate.test <- 100*(1-sum(diag(table(rockScale$perm[-learn],glfpredt)))/ntest)\n",
    "error_rate.test"
   ]
  },
  {
   "cell_type": "code",
   "execution_count": null,
   "metadata": {},
   "outputs": [],
   "source": []
  },
  {
   "cell_type": "markdown",
   "metadata": {},
   "source": [
    " we get a prediction error of 27.07%\n",
    "\n",
    " Now we switch to non-linear modelling with a MLP\n",
    "\n",
    " The nnet() function is quite powerful and very reliable from the optimization\n",
    " point fo view. From the computational point of view, it has two drawbacks:\n",
    "\n",
    "1. it does not have a built-in mechanism for multiple runs or cross-validation\n",
    "2. it only admits networks of one hidden layer (of size 'size')\n",
    "\n",
    "Please have a look at nnet before going any further"
   ]
  },
  {
   "cell_type": "code",
   "execution_count": 25,
   "metadata": {
    "ExecuteTime": {
     "end_time": "2019-09-05T07:21:55.060785Z",
     "start_time": "2019-09-05T07:21:54.392Z"
    }
   },
   "outputs": [],
   "source": [
    "?nnet"
   ]
  },
  {
   "cell_type": "markdown",
   "metadata": {},
   "source": [
    "The basic parameters are 'size' and 'decay' (the regularization constant, lambda)\n",
    " As usual, R detects it is a classification problem because 'admit' is a factor\n",
    " It buils a MLP with one output neuron (just two classes), with the logistic function\n",
    "and uses the cross-entropy as error function\n",
    "\n",
    " Let's start by scaling of inputs, this is important to avoid network 'stagnation' (premature convergence)"
   ]
  },
  {
   "cell_type": "code",
   "execution_count": null,
   "metadata": {
    "ExecuteTime": {
     "end_time": "2019-09-05T07:21:59.170078Z",
     "start_time": "2019-09-05T07:21:59.128Z"
    }
   },
   "outputs": [],
   "source": [
    "#rock$area <- scale(rock$area)\n",
    "#rock$shape <- scale(rock$shape)\n",
    "#rock$peri <- scale(rock$peri)\n",
    "#rock$perm <- scale(rock$perm)\n",
    "#head(rock)"
   ]
  },
  {
   "cell_type": "code",
   "execution_count": null,
   "metadata": {},
   "outputs": [],
   "source": []
  },
  {
   "cell_type": "markdown",
   "metadata": {},
   "source": [
    "To illustrate the first results, we just fit a MLP with 2 hidden neurons"
   ]
  },
  {
   "cell_type": "code",
   "execution_count": 50,
   "metadata": {
    "ExecuteTime": {
     "end_time": "2019-09-05T07:22:00.468078Z",
     "start_time": "2019-09-05T07:22:00.434Z"
    }
   },
   "outputs": [
    {
     "name": "stdout",
     "output_type": "stream",
     "text": [
      "# weights:  11\n",
      "initial  value 35.373569 \n",
      "iter  10 value 30.068110\n",
      "iter  20 value 30.067430\n",
      "iter  30 value 30.060204\n",
      "iter  40 value 30.059483\n",
      "iter  50 value 30.058622\n",
      "iter  60 value 30.057577\n",
      "iter  70 value 30.056283\n",
      "iter  80 value 30.054636\n",
      "iter  90 value 30.052473\n",
      "iter 100 value 30.049506\n",
      "iter 110 value 30.045187\n",
      "iter 120 value 30.038330\n",
      "iter 130 value 30.025811\n",
      "iter 140 value 29.995983\n",
      "iter 150 value 29.845400\n",
      "iter 160 value 19.593956\n",
      "iter 170 value 19.501890\n",
      "iter 180 value 17.888267\n",
      "iter 190 value 17.519570\n",
      "iter 200 value 17.477877\n",
      "iter 210 value 17.477648\n",
      "iter 220 value 17.476767\n",
      "iter 230 value 17.476293\n",
      "final  value 17.476059 \n",
      "converged\n"
     ]
    }
   ],
   "source": [
    "model.nnet <- nnet(perm ~., data = rockScale, subset=learn, size=2, maxit=2000, decay=0)"
   ]
  },
  {
   "cell_type": "markdown",
   "metadata": {},
   "source": [
    " Take your time to understand the output"
   ]
  },
  {
   "cell_type": "code",
   "execution_count": 51,
   "metadata": {
    "ExecuteTime": {
     "end_time": "2019-09-05T07:22:02.029483Z",
     "start_time": "2019-09-05T07:22:02.010Z"
    }
   },
   "outputs": [
    {
     "data": {
      "text/plain": [
       "a 3-2-1 network with 11 weights\n",
       "inputs: area peri shape \n",
       "output(s): perm \n",
       "options were -"
      ]
     },
     "metadata": {},
     "output_type": "display_data"
    }
   ],
   "source": [
    "model.nnet "
   ]
  },
  {
   "cell_type": "markdown",
   "metadata": {},
   "source": [
    " Result 3 neur. -> 2 neur. -> 1 neur.\n",
    " \n",
    " 5 bias: 3+2\n",
    " \n",
    " In particular, understand why the total number of weights is 11, what 'initial  value' and 'final  value' are\n",
    " and what does 'converged' mean\n",
    "\n",
    " This is the final value of the error function (also known as fitting criterion)"
   ]
  },
  {
   "cell_type": "code",
   "execution_count": 52,
   "metadata": {
    "ExecuteTime": {
     "end_time": "2019-09-05T07:22:03.509056Z",
     "start_time": "2019-09-05T07:22:03.490Z"
    }
   },
   "outputs": [
    {
     "data": {
      "text/html": [
       "17.4760587681547"
      ],
      "text/latex": [
       "17.4760587681547"
      ],
      "text/markdown": [
       "17.4760587681547"
      ],
      "text/plain": [
       "[1] 17.47606"
      ]
     },
     "metadata": {},
     "output_type": "display_data"
    }
   ],
   "source": [
    "model.nnet$value"
   ]
  },
  {
   "cell_type": "markdown",
   "metadata": {},
   "source": [
    "  fitted values for the training data"
   ]
  },
  {
   "cell_type": "code",
   "execution_count": 53,
   "metadata": {
    "ExecuteTime": {
     "end_time": "2019-09-05T07:22:04.989260Z",
     "start_time": "2019-09-05T07:22:04.922Z"
    }
   },
   "outputs": [
    {
     "name": "stdout",
     "output_type": "stream",
     "text": [
      "      Fit. val.   Residuals\n",
      "44 0.9294251453  1.09093387\n",
      "40 0.9294237483 -1.64992824\n",
      "4  0.0000000000 -0.93452025\n",
      "21 0.0000000000 -0.62457427\n",
      "2  0.0000000000 -0.93452025\n",
      "5  0.0000000000 -0.90985248\n",
      "26 0.7194312469  0.02185813\n",
      "24 0.0000000000 -0.62457427\n",
      "13 0.0000000000 -0.76070383\n",
      "7  0.0000000000 -0.90985248\n",
      "48 0.9294251453 -0.55358424\n",
      "31 0.9294251453  0.15447217\n",
      "22 0.0000000000 -0.62457427\n",
      "39 0.0008706995 -0.72137519\n",
      "14 0.0000000000 -0.76070383\n",
      "33 0.9291557719  0.29178472\n",
      "29 0.9293912972  0.15450602\n",
      "20 0.0000000000 -0.81506429\n",
      "19 0.0000000000 -0.81506429\n",
      "47 0.9205877266 -0.54474682\n",
      "36 0.9294251453  0.29151535\n",
      "8  0.0000000000 -0.90985248\n",
      "34 0.9294251453  0.29151535\n",
      "46 0.9294251453 -0.55358424\n",
      "3  0.0000000000 -0.93452025\n",
      "42 0.9294074307  1.09095158\n",
      "1  0.0000000000 -0.93452025\n",
      "23 0.0000000000 -0.62457427\n",
      "27 0.9282294215 -0.18694004\n",
      "10 0.0000000000 -0.67710749\n",
      "25 0.9294251453 -0.18813577\n",
      "35 0.9240677508  0.29687274\n"
     ]
    }
   ],
   "source": [
    "fval_res <- cbind(matrix=model.nnet$fitted.values, model.nnet$residuals)\n",
    "colnames(fval_res) <- c(\"Fit. val.\", \"Residuals\")\n",
    "print(fval_res)"
   ]
  },
  {
   "cell_type": "markdown",
   "metadata": {},
   "source": [
    " and the residuals"
   ]
  },
  {
   "cell_type": "code",
   "execution_count": 54,
   "metadata": {
    "ExecuteTime": {
     "end_time": "2019-09-05T07:22:06.469289Z",
     "start_time": "2019-09-05T07:22:06.403Z"
    }
   },
   "outputs": [
    {
     "data": {
      "image/png": "[encoded data removed]",
      "text/plain": [
       "Plot with title “Histogram of model.nnet$residuals”"
      ]
     },
     "metadata": {},
     "output_type": "display_data"
    }
   ],
   "source": [
    "dens <- density(model.nnet$residuals)\n",
    "hist(model.nnet$residuals, prob=T)\n",
    "lines(dens,col=\"red\")"
   ]
  },
  {
   "cell_type": "code",
   "execution_count": 55,
   "metadata": {},
   "outputs": [
    {
     "data": {
      "text/html": [
       "<table>\n",
       "<caption>A matrix: 32 × 1 of type dbl</caption>\n",
       "<tbody>\n",
       "\t<tr><th scope=row>44</th><td>0.9294251453</td></tr>\n",
       "\t<tr><th scope=row>40</th><td>0.9294237483</td></tr>\n",
       "\t<tr><th scope=row>4</th><td>0.0000000000</td></tr>\n",
       "\t<tr><th scope=row>21</th><td>0.0000000000</td></tr>\n",
       "\t<tr><th scope=row>2</th><td>0.0000000000</td></tr>\n",
       "\t<tr><th scope=row>5</th><td>0.0000000000</td></tr>\n",
       "\t<tr><th scope=row>26</th><td>0.7194312469</td></tr>\n",
       "\t<tr><th scope=row>24</th><td>0.0000000000</td></tr>\n",
       "\t<tr><th scope=row>13</th><td>0.0000000000</td></tr>\n",
       "\t<tr><th scope=row>7</th><td>0.0000000000</td></tr>\n",
       "\t<tr><th scope=row>48</th><td>0.9294251453</td></tr>\n",
       "\t<tr><th scope=row>31</th><td>0.9294251453</td></tr>\n",
       "\t<tr><th scope=row>22</th><td>0.0000000000</td></tr>\n",
       "\t<tr><th scope=row>39</th><td>0.0008706995</td></tr>\n",
       "\t<tr><th scope=row>14</th><td>0.0000000000</td></tr>\n",
       "\t<tr><th scope=row>33</th><td>0.9291557719</td></tr>\n",
       "\t<tr><th scope=row>29</th><td>0.9293912972</td></tr>\n",
       "\t<tr><th scope=row>20</th><td>0.0000000000</td></tr>\n",
       "\t<tr><th scope=row>19</th><td>0.0000000000</td></tr>\n",
       "\t<tr><th scope=row>47</th><td>0.9205877266</td></tr>\n",
       "\t<tr><th scope=row>36</th><td>0.9294251453</td></tr>\n",
       "\t<tr><th scope=row>8</th><td>0.0000000000</td></tr>\n",
       "\t<tr><th scope=row>34</th><td>0.9294251453</td></tr>\n",
       "\t<tr><th scope=row>46</th><td>0.9294251453</td></tr>\n",
       "\t<tr><th scope=row>3</th><td>0.0000000000</td></tr>\n",
       "\t<tr><th scope=row>42</th><td>0.9294074307</td></tr>\n",
       "\t<tr><th scope=row>1</th><td>0.0000000000</td></tr>\n",
       "\t<tr><th scope=row>23</th><td>0.0000000000</td></tr>\n",
       "\t<tr><th scope=row>27</th><td>0.9282294215</td></tr>\n",
       "\t<tr><th scope=row>10</th><td>0.0000000000</td></tr>\n",
       "\t<tr><th scope=row>25</th><td>0.9294251453</td></tr>\n",
       "\t<tr><th scope=row>35</th><td>0.9240677508</td></tr>\n",
       "</tbody>\n",
       "</table>\n"
      ],
      "text/latex": [
       "A matrix: 32 × 1 of type dbl\n",
       "\\begin{tabular}{r|l}\n",
       "\t44 & 0.9294251453\\\\\n",
       "\t40 & 0.9294237483\\\\\n",
       "\t4 & 0.0000000000\\\\\n",
       "\t21 & 0.0000000000\\\\\n",
       "\t2 & 0.0000000000\\\\\n",
       "\t5 & 0.0000000000\\\\\n",
       "\t26 & 0.7194312469\\\\\n",
       "\t24 & 0.0000000000\\\\\n",
       "\t13 & 0.0000000000\\\\\n",
       "\t7 & 0.0000000000\\\\\n",
       "\t48 & 0.9294251453\\\\\n",
       "\t31 & 0.9294251453\\\\\n",
       "\t22 & 0.0000000000\\\\\n",
       "\t39 & 0.0008706995\\\\\n",
       "\t14 & 0.0000000000\\\\\n",
       "\t33 & 0.9291557719\\\\\n",
       "\t29 & 0.9293912972\\\\\n",
       "\t20 & 0.0000000000\\\\\n",
       "\t19 & 0.0000000000\\\\\n",
       "\t47 & 0.9205877266\\\\\n",
       "\t36 & 0.9294251453\\\\\n",
       "\t8 & 0.0000000000\\\\\n",
       "\t34 & 0.9294251453\\\\\n",
       "\t46 & 0.9294251453\\\\\n",
       "\t3 & 0.0000000000\\\\\n",
       "\t42 & 0.9294074307\\\\\n",
       "\t1 & 0.0000000000\\\\\n",
       "\t23 & 0.0000000000\\\\\n",
       "\t27 & 0.9282294215\\\\\n",
       "\t10 & 0.0000000000\\\\\n",
       "\t25 & 0.9294251453\\\\\n",
       "\t35 & 0.9240677508\\\\\n",
       "\\end{tabular}\n"
      ],
      "text/markdown": [
       "\n",
       "A matrix: 32 × 1 of type dbl\n",
       "\n",
       "| 44 | 0.9294251453 |\n",
       "| 40 | 0.9294237483 |\n",
       "| 4 | 0.0000000000 |\n",
       "| 21 | 0.0000000000 |\n",
       "| 2 | 0.0000000000 |\n",
       "| 5 | 0.0000000000 |\n",
       "| 26 | 0.7194312469 |\n",
       "| 24 | 0.0000000000 |\n",
       "| 13 | 0.0000000000 |\n",
       "| 7 | 0.0000000000 |\n",
       "| 48 | 0.9294251453 |\n",
       "| 31 | 0.9294251453 |\n",
       "| 22 | 0.0000000000 |\n",
       "| 39 | 0.0008706995 |\n",
       "| 14 | 0.0000000000 |\n",
       "| 33 | 0.9291557719 |\n",
       "| 29 | 0.9293912972 |\n",
       "| 20 | 0.0000000000 |\n",
       "| 19 | 0.0000000000 |\n",
       "| 47 | 0.9205877266 |\n",
       "| 36 | 0.9294251453 |\n",
       "| 8 | 0.0000000000 |\n",
       "| 34 | 0.9294251453 |\n",
       "| 46 | 0.9294251453 |\n",
       "| 3 | 0.0000000000 |\n",
       "| 42 | 0.9294074307 |\n",
       "| 1 | 0.0000000000 |\n",
       "| 23 | 0.0000000000 |\n",
       "| 27 | 0.9282294215 |\n",
       "| 10 | 0.0000000000 |\n",
       "| 25 | 0.9294251453 |\n",
       "| 35 | 0.9240677508 |\n",
       "\n"
      ],
      "text/plain": [
       "   [,1]        \n",
       "44 0.9294251453\n",
       "40 0.9294237483\n",
       "4  0.0000000000\n",
       "21 0.0000000000\n",
       "2  0.0000000000\n",
       "5  0.0000000000\n",
       "26 0.7194312469\n",
       "24 0.0000000000\n",
       "13 0.0000000000\n",
       "7  0.0000000000\n",
       "48 0.9294251453\n",
       "31 0.9294251453\n",
       "22 0.0000000000\n",
       "39 0.0008706995\n",
       "14 0.0000000000\n",
       "33 0.9291557719\n",
       "29 0.9293912972\n",
       "20 0.0000000000\n",
       "19 0.0000000000\n",
       "47 0.9205877266\n",
       "36 0.9294251453\n",
       "8  0.0000000000\n",
       "34 0.9294251453\n",
       "46 0.9294251453\n",
       "3  0.0000000000\n",
       "42 0.9294074307\n",
       "1  0.0000000000\n",
       "23 0.0000000000\n",
       "27 0.9282294215\n",
       "10 0.0000000000\n",
       "25 0.9294251453\n",
       "35 0.9240677508"
      ]
     },
     "metadata": {},
     "output_type": "display_data"
    }
   ],
   "source": [
    "prediction <- predict(model.nnet)\n",
    "prediction"
   ]
  },
  {
   "cell_type": "code",
   "execution_count": 65,
   "metadata": {},
   "outputs": [],
   "source": [
    "\n",
    "\n",
    "model.glm.fit = glm(perm ~ ., data=rockScale, family=gaussian)\n",
    "\n",
    "#loocv.err <- model.glm(rock, glm.fit)\n",
    "#eval.res <- loocv(rock.x, rock.y)\n",
    "#LOOCV\n",
    "#cv <- glm(rock, glm.fit, family=gaussian)$delta \n",
    "\n",
    "#eval.res <- loocv(learner('user.rpart',pars=list()),\n",
    "#                  dataset(perm ~ ., rock),\n",
    "#                  loocvSettings(1234))"
   ]
  },
  {
   "cell_type": "markdown",
   "metadata": {},
   "source": [
    " Now look at the weights"
   ]
  },
  {
   "cell_type": "code",
   "execution_count": 66,
   "metadata": {
    "ExecuteTime": {
     "end_time": "2019-09-05T07:22:08.054623Z",
     "start_time": "2019-09-05T07:22:08.034Z"
    }
   },
   "outputs": [
    {
     "data": {
      "text/html": [
       "<ol class=list-inline>\n",
       "\t<li>1.50306566597283</li>\n",
       "\t<li>-1.92806943107458</li>\n",
       "\t<li>4.14401218231444</li>\n",
       "\t<li>-0.611276175418565</li>\n",
       "\t<li>1.50149195766</li>\n",
       "\t<li>-1.9288735432003</li>\n",
       "\t<li>4.14270338103256</li>\n",
       "\t<li>-0.611904050134253</li>\n",
       "\t<li>4.21064051837374</li>\n",
       "\t<li>-5.29870904271534</li>\n",
       "\t<li>-5.29900526569436</li>\n",
       "</ol>\n"
      ],
      "text/latex": [
       "\\begin{enumerate*}\n",
       "\\item 1.50306566597283\n",
       "\\item -1.92806943107458\n",
       "\\item 4.14401218231444\n",
       "\\item -0.611276175418565\n",
       "\\item 1.50149195766\n",
       "\\item -1.9288735432003\n",
       "\\item 4.14270338103256\n",
       "\\item -0.611904050134253\n",
       "\\item 4.21064051837374\n",
       "\\item -5.29870904271534\n",
       "\\item -5.29900526569436\n",
       "\\end{enumerate*}\n"
      ],
      "text/markdown": [
       "1. 1.50306566597283\n",
       "2. -1.92806943107458\n",
       "3. 4.14401218231444\n",
       "4. -0.611276175418565\n",
       "5. 1.50149195766\n",
       "6. -1.9288735432003\n",
       "7. 4.14270338103256\n",
       "8. -0.611904050134253\n",
       "9. 4.21064051837374\n",
       "10. -5.29870904271534\n",
       "11. -5.29900526569436\n",
       "\n",
       "\n"
      ],
      "text/plain": [
       " [1]  1.5030657 -1.9280694  4.1440122 -0.6112762  1.5014920 -1.9288735\n",
       " [7]  4.1427034 -0.6119041  4.2106405 -5.2987090 -5.2990053"
      ]
     },
     "metadata": {},
     "output_type": "display_data"
    }
   ],
   "source": [
    "model.nnet$wts"
   ]
  },
  {
   "cell_type": "markdown",
   "metadata": {},
   "source": [
    "I think this way is clearer:"
   ]
  },
  {
   "cell_type": "code",
   "execution_count": 67,
   "metadata": {
    "ExecuteTime": {
     "end_time": "2019-09-05T07:22:09.498954Z",
     "start_time": "2019-09-05T07:22:09.478Z"
    }
   },
   "outputs": [
    {
     "data": {
      "text/plain": [
       "a 3-2-1 network with 11 weights\n",
       "options were - decay=0.01\n",
       " b->h1 i1->h1 i2->h1 i3->h1 \n",
       "  1.50  -1.93   4.14  -0.61 \n",
       " b->h2 i1->h2 i2->h2 i3->h2 \n",
       "  1.50  -1.93   4.14  -0.61 \n",
       " b->o h1->o h2->o \n",
       " 4.21 -5.30 -5.30 "
      ]
     },
     "metadata": {},
     "output_type": "display_data"
    }
   ],
   "source": [
    "summary(model.nnet)"
   ]
  },
  {
   "cell_type": "markdown",
   "metadata": {},
   "source": [
    " i1,i2,i3 are the 3 inputs, h1, h2 are the two hidden neurons, b is the bias (offset)\n",
    "\n",
    " As you can see, some weights are large (two orders of magnitude larger then others)\n",
    "This is no good, since it makes the model unstable (i.e., small changes in some inputs may\n",
    " entail significant changes in the network, because of the large weights)\n",
    "\n",
    " One way to avoid this is by regularizing the learning process:"
   ]
  },
  {
   "cell_type": "code",
   "execution_count": 68,
   "metadata": {
    "ExecuteTime": {
     "end_time": "2019-09-05T07:22:11.049074Z",
     "start_time": "2019-09-05T07:22:11.022Z"
    }
   },
   "outputs": [
    {
     "name": "stdout",
     "output_type": "stream",
     "text": [
      "# weights:  11\n",
      "initial  value 33.125309 \n",
      "iter  10 value 30.011689\n",
      "iter  20 value 18.426957\n",
      "iter  30 value 17.990513\n",
      "iter  40 value 17.966931\n",
      "iter  50 value 17.961229\n",
      "iter  60 value 17.960806\n",
      "final  value 17.960798 \n",
      "converged\n"
     ]
    }
   ],
   "source": [
    "model.nnet <- nnet(perm ~., data = rockScale, \n",
    "                   subset=learn, size=2, maxit=200, decay=0.01)"
   ]
  },
  {
   "cell_type": "markdown",
   "metadata": {},
   "source": [
    " notice the big difference"
   ]
  },
  {
   "cell_type": "code",
   "execution_count": 69,
   "metadata": {
    "ExecuteTime": {
     "end_time": "2019-09-05T07:22:12.537622Z",
     "start_time": "2019-09-05T07:22:12.509Z"
    }
   },
   "outputs": [
    {
     "data": {
      "text/html": [
       "<ol class=list-inline>\n",
       "\t<li>-1.64240353794552</li>\n",
       "\t<li>1.79777537275728</li>\n",
       "\t<li>-3.87217879458032</li>\n",
       "\t<li>0.551794810040528</li>\n",
       "\t<li>1.77078484122249</li>\n",
       "\t<li>-1.93410480517457</li>\n",
       "\t<li>4.12844087253154</li>\n",
       "\t<li>-0.539583546594516</li>\n",
       "\t<li>-0.221963988553307</li>\n",
       "\t<li>5.59886525505924</li>\n",
       "\t<li>-6.06964250576572</li>\n",
       "</ol>\n"
      ],
      "text/latex": [
       "\\begin{enumerate*}\n",
       "\\item -1.64240353794552\n",
       "\\item 1.79777537275728\n",
       "\\item -3.87217879458032\n",
       "\\item 0.551794810040528\n",
       "\\item 1.77078484122249\n",
       "\\item -1.93410480517457\n",
       "\\item 4.12844087253154\n",
       "\\item -0.539583546594516\n",
       "\\item -0.221963988553307\n",
       "\\item 5.59886525505924\n",
       "\\item -6.06964250576572\n",
       "\\end{enumerate*}\n"
      ],
      "text/markdown": [
       "1. -1.64240353794552\n",
       "2. 1.79777537275728\n",
       "3. -3.87217879458032\n",
       "4. 0.551794810040528\n",
       "5. 1.77078484122249\n",
       "6. -1.93410480517457\n",
       "7. 4.12844087253154\n",
       "8. -0.539583546594516\n",
       "9. -0.221963988553307\n",
       "10. 5.59886525505924\n",
       "11. -6.06964250576572\n",
       "\n",
       "\n"
      ],
      "text/plain": [
       " [1] -1.6424035  1.7977754 -3.8721788  0.5517948  1.7707848 -1.9341048\n",
       " [7]  4.1284409 -0.5395835 -0.2219640  5.5988653 -6.0696425"
      ]
     },
     "metadata": {},
     "output_type": "display_data"
    },
    {
     "data": {
      "text/plain": [
       "a 3-2-1 network with 11 weights\n",
       "options were - decay=0.01\n",
       " b->h1 i1->h1 i2->h1 i3->h1 \n",
       " -1.64   1.80  -3.87   0.55 \n",
       " b->h2 i1->h2 i2->h2 i3->h2 \n",
       "  1.77  -1.93   4.13  -0.54 \n",
       " b->o h1->o h2->o \n",
       "-0.22  5.60 -6.07 "
      ]
     },
     "metadata": {},
     "output_type": "display_data"
    }
   ],
   "source": [
    "model.nnet$wts\n",
    "\n",
    "summary(model.nnet)"
   ]
  },
  {
   "cell_type": "markdown",
   "metadata": {},
   "source": [
    "Now let's compute the training error"
   ]
  },
  {
   "cell_type": "code",
   "execution_count": 70,
   "metadata": {
    "ExecuteTime": {
     "end_time": "2019-09-05T07:22:14.068431Z",
     "start_time": "2019-09-05T07:22:14.041Z"
    }
   },
   "outputs": [
    {
     "data": {
      "text/html": [
       "100"
      ],
      "text/latex": [
       "100"
      ],
      "text/markdown": [
       "100"
      ],
      "text/plain": [
       "[1] 100"
      ]
     },
     "metadata": {},
     "output_type": "display_data"
    }
   ],
   "source": [
    "pred <- predict(model.nnet)\n",
    "p1 <- as.factor(pred)\n",
    "\n",
    "t1 <- table(p1,rockScale$perm[learn])\n",
    "error_rate.learn <- 100*(1-sum(diag(t1))/nlearn)\n",
    "error_rate.learn"
   ]
  },
  {
   "cell_type": "markdown",
   "metadata": {},
   "source": [
    " And the corresponding test error"
   ]
  },
  {
   "cell_type": "code",
   "execution_count": 71,
   "metadata": {
    "ExecuteTime": {
     "end_time": "2019-09-05T07:22:15.524544Z",
     "start_time": "2019-09-05T07:22:15.496Z"
    }
   },
   "outputs": [
    {
     "data": {
      "text/html": [
       "100"
      ],
      "text/latex": [
       "100"
      ],
      "text/markdown": [
       "100"
      ],
      "text/plain": [
       "[1] 100"
      ]
     },
     "metadata": {},
     "output_type": "display_data"
    }
   ],
   "source": [
    "pred2 <- predict(model.nnet, newdata=rockScale[-learn,])\n",
    "p2 <- as.factor(pred2)\n",
    "\n",
    "t2 <- table(p2,rockScale$perm[-learn])\n",
    "error_rate.test <- 100*(1-sum(diag(t2))/ntest)\n",
    "error_rate.test"
   ]
  },
  {
   "cell_type": "markdown",
   "metadata": {},
   "source": [
    " We get 26.32%, so it seems that the MLP helps a little bit; however, we need to work harder\n",
    "\n",
    " We are going to do the modelling in a principled way now. Using 10x10 CV to select the best\n",
    " combination of 'size' and 'decay'\n",
    "\n",
    " Just by curiosity, let me show you that we can fit any dataset (in the sense of reducing the training error):"
   ]
  },
  {
   "cell_type": "code",
   "execution_count": 73,
   "metadata": {
    "ExecuteTime": {
     "end_time": "2019-09-05T07:22:17.018447Z",
     "start_time": "2019-09-05T07:22:16.903Z"
    }
   },
   "outputs": [
    {
     "name": "stdout",
     "output_type": "stream",
     "text": [
      "# weights:  101\n",
      "initial  value 37.074438 \n",
      "final  value 30.068357 \n",
      "converged\n"
     ]
    }
   ],
   "source": [
    "model.nnet <- nnet(perm ~., data = rockScale, \n",
    "                   subset=learn, size=20, maxit=200, trace=T)"
   ]
  },
  {
   "cell_type": "markdown",
   "metadata": {},
   "source": [
    " Now let's compute the training error"
   ]
  },
  {
   "cell_type": "code",
   "execution_count": 74,
   "metadata": {
    "ExecuteTime": {
     "end_time": "2019-09-05T07:22:18.327041Z",
     "start_time": "2019-09-05T07:22:18.298Z"
    }
   },
   "outputs": [
    {
     "data": {
      "text/plain": [
       "   \n",
       "p1  -0.934520254211691 -0.909852482623065 -0.815064286240845 -0.760703826628874\n",
       "  0                  4                  3                  2                  2\n",
       "   \n",
       "p1  -0.720504495151113 -0.677107489578531 -0.624574272306457 0.375840908787813\n",
       "  0                  2                  1                  4                 3\n",
       "   \n",
       "p1  0.741289376767455 1.08389731549837 1.22094049099074 2.0203590146962\n",
       "  0                 3                2                4               2"
      ]
     },
     "metadata": {},
     "output_type": "display_data"
    },
    {
     "data": {
      "text/html": [
       "87.5"
      ],
      "text/latex": [
       "87.5"
      ],
      "text/markdown": [
       "87.5"
      ],
      "text/plain": [
       "[1] 87.5"
      ]
     },
     "metadata": {},
     "output_type": "display_data"
    }
   ],
   "source": [
    "p1 <- as.factor(predict (model.nnet))\n",
    "\n",
    "(t1 <- table(p1,rockScale$perm[learn]))\n",
    "error_rate.learn <- 100*(1-sum(diag(t1))/nlearn)\n",
    "error_rate.learn"
   ]
  },
  {
   "cell_type": "markdown",
   "metadata": {},
   "source": [
    "And the corresponding test error"
   ]
  },
  {
   "cell_type": "code",
   "execution_count": 75,
   "metadata": {
    "ExecuteTime": {
     "end_time": "2019-09-05T07:22:19.709237Z",
     "start_time": "2019-09-05T07:22:19.678Z"
    }
   },
   "outputs": [
    {
     "data": {
      "text/html": [
       "93.75"
      ],
      "text/latex": [
       "93.75"
      ],
      "text/markdown": [
       "93.75"
      ],
      "text/plain": [
       "[1] 93.75"
      ]
     },
     "metadata": {},
     "output_type": "display_data"
    },
    {
     "data": {
      "text/plain": [
       "   \n",
       "p2  -0.909852482623065 -0.815064286240845 -0.760703826628874 -0.720504495151113\n",
       "  0                  1                  2                  2                  2\n",
       "   \n",
       "p2  -0.677107489578531 0.375840908787813 0.741289376767455 1.08389731549837\n",
       "  0                  3                 1                 1                2\n",
       "   \n",
       "p2  2.0203590146962\n",
       "  0               2"
      ]
     },
     "metadata": {},
     "output_type": "display_data"
    }
   ],
   "source": [
    "p2 <- as.factor(predict (model.nnet, \n",
    "                         newdata=rockScale[-learn,]))\n",
    "\n",
    "t2 <- table(p2,rockScale$perm[-learn])\n",
    "error_rate.test <- 100*(1-sum(diag(t2))/ntest)\n",
    "error_rate.test\n",
    "t2"
   ]
  },
  {
   "cell_type": "markdown",
   "metadata": {},
   "source": [
    "That's it: we got a training error around 6% (four times lower than the previous one), but it is \n",
    "illusory ... the test error is larger than before (around 40%); \n",
    " The relevant comparison is between 6% and 40%, this large gap is an indication of overfitting\n",
    "\n",
    "\n",
    "{caret} is an excellent package for training control, once you know what all these concepts are\n",
    "\n",
    " WARNING: if the package is not installed in your computer, installation needs some previous packages"
   ]
  },
  {
   "cell_type": "code",
   "execution_count": 76,
   "metadata": {
    "ExecuteTime": {
     "end_time": "2019-09-05T07:29:02.295165Z",
     "start_time": "2019-09-05T07:29:00.061Z"
    }
   },
   "outputs": [
    {
     "name": "stderr",
     "output_type": "stream",
     "text": [
      "Loading required package: lattice\n",
      "Loading required package: ggplot2\n",
      "Registered S3 methods overwritten by 'ggplot2':\n",
      "  method         from \n",
      "  [.quosures     rlang\n",
      "  c.quosures     rlang\n",
      "  print.quosures rlang\n"
     ]
    }
   ],
   "source": [
    "library(caret)"
   ]
  },
  {
   "cell_type": "markdown",
   "metadata": {},
   "source": [
    "For a specific model, in our case the neural network, the function train() in {caret} uses a \"grid\" of model parameters\n",
    " and trains using a given resampling method (in our case we will be using 10x10 CV). All combinations are evaluated, and \n",
    " the best one (according to 10x10 CV) is chosen and used to construct a final model, which is refit using the whole training set\n",
    "\n",
    " Thus train() returns the constructed model (exactly as a direct call to nnet() would)\n",
    "\n",
    " In order to find the best network architecture, we are going to explore two methods:\n",
    "\n",
    "1. Explore different numbers of hidden units in one hidden layer, with no regularization\n",
    "2. Fix a large number of hidden units in one hidden layer, and explore different regularization values (recommended)\n",
    "\n",
    "doing both (explore different numbers of hidden units AND regularization values) is usually a waste of computing \n",
    "resources (but notice that train() would admit it)\n",
    "\n",
    "Let's start with 1.\n",
    "\n",
    "set desired sizes"
   ]
  },
  {
   "cell_type": "code",
   "execution_count": 77,
   "metadata": {
    "ExecuteTime": {
     "end_time": "2019-09-05T07:29:04.848666Z",
     "start_time": "2019-09-05T07:29:04.611Z"
    }
   },
   "outputs": [
    {
     "data": {
      "text/html": [
       "<ol class=list-inline>\n",
       "\t<li>2</li>\n",
       "\t<li>4</li>\n",
       "\t<li>6</li>\n",
       "\t<li>8</li>\n",
       "\t<li>10</li>\n",
       "\t<li>12</li>\n",
       "\t<li>14</li>\n",
       "\t<li>16</li>\n",
       "\t<li>18</li>\n",
       "\t<li>20</li>\n",
       "</ol>\n"
      ],
      "text/latex": [
       "\\begin{enumerate*}\n",
       "\\item 2\n",
       "\\item 4\n",
       "\\item 6\n",
       "\\item 8\n",
       "\\item 10\n",
       "\\item 12\n",
       "\\item 14\n",
       "\\item 16\n",
       "\\item 18\n",
       "\\item 20\n",
       "\\end{enumerate*}\n"
      ],
      "text/markdown": [
       "1. 2\n",
       "2. 4\n",
       "3. 6\n",
       "4. 8\n",
       "5. 10\n",
       "6. 12\n",
       "7. 14\n",
       "8. 16\n",
       "9. 18\n",
       "10. 20\n",
       "\n",
       "\n"
      ],
      "text/plain": [
       " [1]  2  4  6  8 10 12 14 16 18 20"
      ]
     },
     "metadata": {},
     "output_type": "display_data"
    }
   ],
   "source": [
    "(sizes <- 2*seq(1,10,by=1))"
   ]
  },
  {
   "cell_type": "markdown",
   "metadata": {},
   "source": [
    " specify 10x10 CV"
   ]
  },
  {
   "cell_type": "code",
   "execution_count": 78,
   "metadata": {
    "ExecuteTime": {
     "end_time": "2019-09-05T07:30:30.373273Z",
     "start_time": "2019-09-05T07:29:06.034Z"
    }
   },
   "outputs": [],
   "source": [
    "trc <- trainControl (method=\"repeatedcv\", number=10, repeats=10)\n",
    "\n",
    "model.10x10CV <- train (perm ~., \n",
    "                        data = rockScale, \n",
    "                        subset=learn, \n",
    "                        method='nnet', \n",
    "                        maxit = 500, \n",
    "                        trace = FALSE,\n",
    "                        tuneGrid = expand.grid(.size=sizes,.decay=1), \n",
    "                        trControl=trc)"
   ]
  },
  {
   "cell_type": "markdown",
   "metadata": {},
   "source": [
    " We can inspect the full results"
   ]
  },
  {
   "cell_type": "code",
   "execution_count": 79,
   "metadata": {
    "ExecuteTime": {
     "end_time": "2019-09-05T07:30:30.398853Z",
     "start_time": "2019-09-05T07:29:10.179Z"
    }
   },
   "outputs": [
    {
     "data": {
      "text/html": [
       "<table>\n",
       "<caption>A data.frame: 10 × 8</caption>\n",
       "<thead>\n",
       "\t<tr><th scope=col>size</th><th scope=col>decay</th><th scope=col>RMSE</th><th scope=col>Rsquared</th><th scope=col>MAE</th><th scope=col>RMSESD</th><th scope=col>RsquaredSD</th><th scope=col>MAESD</th></tr>\n",
       "\t<tr><th scope=col>&lt;dbl&gt;</th><th scope=col>&lt;dbl&gt;</th><th scope=col>&lt;dbl&gt;</th><th scope=col>&lt;dbl&gt;</th><th scope=col>&lt;dbl&gt;</th><th scope=col>&lt;dbl&gt;</th><th scope=col>&lt;dbl&gt;</th><th scope=col>&lt;dbl&gt;</th></tr>\n",
       "</thead>\n",
       "<tbody>\n",
       "\t<tr><td> 2</td><td>1</td><td>0.9378647</td><td>0.8272966</td><td>0.8815217</td><td>0.1947282</td><td>0.2765840</td><td>0.2119854</td></tr>\n",
       "\t<tr><td> 4</td><td>1</td><td>0.9359279</td><td>0.8235874</td><td>0.8820515</td><td>0.1992175</td><td>0.2778576</td><td>0.2123657</td></tr>\n",
       "\t<tr><td> 6</td><td>1</td><td>0.9373778</td><td>0.8209894</td><td>0.8861838</td><td>0.2028675</td><td>0.2782156</td><td>0.2121272</td></tr>\n",
       "\t<tr><td> 8</td><td>1</td><td>0.9400963</td><td>0.8188807</td><td>0.8903492</td><td>0.2050877</td><td>0.2782328</td><td>0.2114556</td></tr>\n",
       "\t<tr><td>10</td><td>1</td><td>0.9427459</td><td>0.8175215</td><td>0.8939416</td><td>0.2071478</td><td>0.2784922</td><td>0.2107877</td></tr>\n",
       "\t<tr><td>12</td><td>1</td><td>0.9443982</td><td>0.8165330</td><td>0.8967933</td><td>0.2087985</td><td>0.2776533</td><td>0.2101502</td></tr>\n",
       "\t<tr><td>14</td><td>1</td><td>0.9444659</td><td>0.8152123</td><td>0.8972309</td><td>0.2104285</td><td>0.2789632</td><td>0.2109791</td></tr>\n",
       "\t<tr><td>16</td><td>1</td><td>0.9461887</td><td>0.8149009</td><td>0.8988684</td><td>0.2113234</td><td>0.2790483</td><td>0.2104442</td></tr>\n",
       "\t<tr><td>18</td><td>1</td><td>0.9474339</td><td>0.8143022</td><td>0.9008237</td><td>0.2118458</td><td>0.2783206</td><td>0.2097770</td></tr>\n",
       "\t<tr><td>20</td><td>1</td><td>0.9474444</td><td>0.8148931</td><td>0.9005756</td><td>0.2123638</td><td>0.2770021</td><td>0.2102170</td></tr>\n",
       "</tbody>\n",
       "</table>\n"
      ],
      "text/latex": [
       "A data.frame: 10 × 8\n",
       "\\begin{tabular}{r|llllllll}\n",
       " size & decay & RMSE & Rsquared & MAE & RMSESD & RsquaredSD & MAESD\\\\\n",
       " <dbl> & <dbl> & <dbl> & <dbl> & <dbl> & <dbl> & <dbl> & <dbl>\\\\\n",
       "\\hline\n",
       "\t  2 & 1 & 0.9378647 & 0.8272966 & 0.8815217 & 0.1947282 & 0.2765840 & 0.2119854\\\\\n",
       "\t  4 & 1 & 0.9359279 & 0.8235874 & 0.8820515 & 0.1992175 & 0.2778576 & 0.2123657\\\\\n",
       "\t  6 & 1 & 0.9373778 & 0.8209894 & 0.8861838 & 0.2028675 & 0.2782156 & 0.2121272\\\\\n",
       "\t  8 & 1 & 0.9400963 & 0.8188807 & 0.8903492 & 0.2050877 & 0.2782328 & 0.2114556\\\\\n",
       "\t 10 & 1 & 0.9427459 & 0.8175215 & 0.8939416 & 0.2071478 & 0.2784922 & 0.2107877\\\\\n",
       "\t 12 & 1 & 0.9443982 & 0.8165330 & 0.8967933 & 0.2087985 & 0.2776533 & 0.2101502\\\\\n",
       "\t 14 & 1 & 0.9444659 & 0.8152123 & 0.8972309 & 0.2104285 & 0.2789632 & 0.2109791\\\\\n",
       "\t 16 & 1 & 0.9461887 & 0.8149009 & 0.8988684 & 0.2113234 & 0.2790483 & 0.2104442\\\\\n",
       "\t 18 & 1 & 0.9474339 & 0.8143022 & 0.9008237 & 0.2118458 & 0.2783206 & 0.2097770\\\\\n",
       "\t 20 & 1 & 0.9474444 & 0.8148931 & 0.9005756 & 0.2123638 & 0.2770021 & 0.2102170\\\\\n",
       "\\end{tabular}\n"
      ],
      "text/markdown": [
       "\n",
       "A data.frame: 10 × 8\n",
       "\n",
       "| size &lt;dbl&gt; | decay &lt;dbl&gt; | RMSE &lt;dbl&gt; | Rsquared &lt;dbl&gt; | MAE &lt;dbl&gt; | RMSESD &lt;dbl&gt; | RsquaredSD &lt;dbl&gt; | MAESD &lt;dbl&gt; |\n",
       "|---|---|---|---|---|---|---|---|\n",
       "|  2 | 1 | 0.9378647 | 0.8272966 | 0.8815217 | 0.1947282 | 0.2765840 | 0.2119854 |\n",
       "|  4 | 1 | 0.9359279 | 0.8235874 | 0.8820515 | 0.1992175 | 0.2778576 | 0.2123657 |\n",
       "|  6 | 1 | 0.9373778 | 0.8209894 | 0.8861838 | 0.2028675 | 0.2782156 | 0.2121272 |\n",
       "|  8 | 1 | 0.9400963 | 0.8188807 | 0.8903492 | 0.2050877 | 0.2782328 | 0.2114556 |\n",
       "| 10 | 1 | 0.9427459 | 0.8175215 | 0.8939416 | 0.2071478 | 0.2784922 | 0.2107877 |\n",
       "| 12 | 1 | 0.9443982 | 0.8165330 | 0.8967933 | 0.2087985 | 0.2776533 | 0.2101502 |\n",
       "| 14 | 1 | 0.9444659 | 0.8152123 | 0.8972309 | 0.2104285 | 0.2789632 | 0.2109791 |\n",
       "| 16 | 1 | 0.9461887 | 0.8149009 | 0.8988684 | 0.2113234 | 0.2790483 | 0.2104442 |\n",
       "| 18 | 1 | 0.9474339 | 0.8143022 | 0.9008237 | 0.2118458 | 0.2783206 | 0.2097770 |\n",
       "| 20 | 1 | 0.9474444 | 0.8148931 | 0.9005756 | 0.2123638 | 0.2770021 | 0.2102170 |\n",
       "\n"
      ],
      "text/plain": [
       "   size decay RMSE      Rsquared  MAE       RMSESD    RsquaredSD MAESD    \n",
       "1   2   1     0.9378647 0.8272966 0.8815217 0.1947282 0.2765840  0.2119854\n",
       "2   4   1     0.9359279 0.8235874 0.8820515 0.1992175 0.2778576  0.2123657\n",
       "3   6   1     0.9373778 0.8209894 0.8861838 0.2028675 0.2782156  0.2121272\n",
       "4   8   1     0.9400963 0.8188807 0.8903492 0.2050877 0.2782328  0.2114556\n",
       "5  10   1     0.9427459 0.8175215 0.8939416 0.2071478 0.2784922  0.2107877\n",
       "6  12   1     0.9443982 0.8165330 0.8967933 0.2087985 0.2776533  0.2101502\n",
       "7  14   1     0.9444659 0.8152123 0.8972309 0.2104285 0.2789632  0.2109791\n",
       "8  16   1     0.9461887 0.8149009 0.8988684 0.2113234 0.2790483  0.2104442\n",
       "9  18   1     0.9474339 0.8143022 0.9008237 0.2118458 0.2783206  0.2097770\n",
       "10 20   1     0.9474444 0.8148931 0.9005756 0.2123638 0.2770021  0.2102170"
      ]
     },
     "metadata": {},
     "output_type": "display_data"
    }
   ],
   "source": [
    "model.10x10CV$results"
   ]
  },
  {
   "cell_type": "markdown",
   "metadata": {},
   "source": [
    "and the best model found"
   ]
  },
  {
   "cell_type": "code",
   "execution_count": 80,
   "metadata": {
    "ExecuteTime": {
     "end_time": "2019-09-05T07:30:30.418751Z",
     "start_time": "2019-09-05T07:29:10.419Z"
    }
   },
   "outputs": [
    {
     "data": {
      "text/html": [
       "<table>\n",
       "<caption>A data.frame: 1 × 2</caption>\n",
       "<thead>\n",
       "\t<tr><th></th><th scope=col>size</th><th scope=col>decay</th></tr>\n",
       "\t<tr><th></th><th scope=col>&lt;dbl&gt;</th><th scope=col>&lt;dbl&gt;</th></tr>\n",
       "</thead>\n",
       "<tbody>\n",
       "\t<tr><th scope=row>2</th><td>4</td><td>1</td></tr>\n",
       "</tbody>\n",
       "</table>\n"
      ],
      "text/latex": [
       "A data.frame: 1 × 2\n",
       "\\begin{tabular}{r|ll}\n",
       "  & size & decay\\\\\n",
       "  & <dbl> & <dbl>\\\\\n",
       "\\hline\n",
       "\t2 & 4 & 1\\\\\n",
       "\\end{tabular}\n"
      ],
      "text/markdown": [
       "\n",
       "A data.frame: 1 × 2\n",
       "\n",
       "| <!--/--> | size &lt;dbl&gt; | decay &lt;dbl&gt; |\n",
       "|---|---|---|\n",
       "| 2 | 4 | 1 |\n",
       "\n"
      ],
      "text/plain": [
       "  size decay\n",
       "2 4    1    "
      ]
     },
     "metadata": {},
     "output_type": "display_data"
    }
   ],
   "source": [
    "model.10x10CV$bestTune"
   ]
  },
  {
   "cell_type": "markdown",
   "metadata": {},
   "source": [
    " The results are quite disappointing ...\n",
    "\n",
    " Now method 2."
   ]
  },
  {
   "cell_type": "code",
   "execution_count": 81,
   "metadata": {
    "ExecuteTime": {
     "end_time": "2019-09-05T07:30:30.437472Z",
     "start_time": "2019-09-05T07:29:10.654Z"
    }
   },
   "outputs": [
    {
     "data": {
      "text/html": [
       "<ol class=list-inline>\n",
       "\t<li>0.001</li>\n",
       "\t<li>0.00125892541179417</li>\n",
       "\t<li>0.00158489319246111</li>\n",
       "\t<li>0.00199526231496888</li>\n",
       "\t<li>0.00251188643150958</li>\n",
       "\t<li>0.00316227766016838</li>\n",
       "\t<li>0.00398107170553497</li>\n",
       "\t<li>0.00501187233627272</li>\n",
       "\t<li>0.00630957344480193</li>\n",
       "\t<li>0.00794328234724281</li>\n",
       "\t<li>0.01</li>\n",
       "\t<li>0.0125892541179417</li>\n",
       "\t<li>0.0158489319246111</li>\n",
       "\t<li>0.0199526231496888</li>\n",
       "\t<li>0.0251188643150958</li>\n",
       "\t<li>0.0316227766016838</li>\n",
       "\t<li>0.0398107170553497</li>\n",
       "\t<li>0.0501187233627272</li>\n",
       "\t<li>0.0630957344480193</li>\n",
       "\t<li>0.0794328234724282</li>\n",
       "\t<li>0.1</li>\n",
       "\t<li>0.125892541179417</li>\n",
       "\t<li>0.158489319246111</li>\n",
       "\t<li>0.199526231496888</li>\n",
       "\t<li>0.251188643150958</li>\n",
       "\t<li>0.316227766016838</li>\n",
       "\t<li>0.398107170553497</li>\n",
       "\t<li>0.501187233627272</li>\n",
       "\t<li>0.630957344480194</li>\n",
       "\t<li>0.794328234724282</li>\n",
       "\t<li>1</li>\n",
       "</ol>\n"
      ],
      "text/latex": [
       "\\begin{enumerate*}\n",
       "\\item 0.001\n",
       "\\item 0.00125892541179417\n",
       "\\item 0.00158489319246111\n",
       "\\item 0.00199526231496888\n",
       "\\item 0.00251188643150958\n",
       "\\item 0.00316227766016838\n",
       "\\item 0.00398107170553497\n",
       "\\item 0.00501187233627272\n",
       "\\item 0.00630957344480193\n",
       "\\item 0.00794328234724281\n",
       "\\item 0.01\n",
       "\\item 0.0125892541179417\n",
       "\\item 0.0158489319246111\n",
       "\\item 0.0199526231496888\n",
       "\\item 0.0251188643150958\n",
       "\\item 0.0316227766016838\n",
       "\\item 0.0398107170553497\n",
       "\\item 0.0501187233627272\n",
       "\\item 0.0630957344480193\n",
       "\\item 0.0794328234724282\n",
       "\\item 0.1\n",
       "\\item 0.125892541179417\n",
       "\\item 0.158489319246111\n",
       "\\item 0.199526231496888\n",
       "\\item 0.251188643150958\n",
       "\\item 0.316227766016838\n",
       "\\item 0.398107170553497\n",
       "\\item 0.501187233627272\n",
       "\\item 0.630957344480194\n",
       "\\item 0.794328234724282\n",
       "\\item 1\n",
       "\\end{enumerate*}\n"
      ],
      "text/markdown": [
       "1. 0.001\n",
       "2. 0.00125892541179417\n",
       "3. 0.00158489319246111\n",
       "4. 0.00199526231496888\n",
       "5. 0.00251188643150958\n",
       "6. 0.00316227766016838\n",
       "7. 0.00398107170553497\n",
       "8. 0.00501187233627272\n",
       "9. 0.00630957344480193\n",
       "10. 0.00794328234724281\n",
       "11. 0.01\n",
       "12. 0.0125892541179417\n",
       "13. 0.0158489319246111\n",
       "14. 0.0199526231496888\n",
       "15. 0.0251188643150958\n",
       "16. 0.0316227766016838\n",
       "17. 0.0398107170553497\n",
       "18. 0.0501187233627272\n",
       "19. 0.0630957344480193\n",
       "20. 0.0794328234724282\n",
       "21. 0.1\n",
       "22. 0.125892541179417\n",
       "23. 0.158489319246111\n",
       "24. 0.199526231496888\n",
       "25. 0.251188643150958\n",
       "26. 0.316227766016838\n",
       "27. 0.398107170553497\n",
       "28. 0.501187233627272\n",
       "29. 0.630957344480194\n",
       "30. 0.794328234724282\n",
       "31. 1\n",
       "\n",
       "\n"
      ],
      "text/plain": [
       " [1] 0.001000000 0.001258925 0.001584893 0.001995262 0.002511886 0.003162278\n",
       " [7] 0.003981072 0.005011872 0.006309573 0.007943282 0.010000000 0.012589254\n",
       "[13] 0.015848932 0.019952623 0.025118864 0.031622777 0.039810717 0.050118723\n",
       "[19] 0.063095734 0.079432823 0.100000000 0.125892541 0.158489319 0.199526231\n",
       "[25] 0.251188643 0.316227766 0.398107171 0.501187234 0.630957344 0.794328235\n",
       "[31] 1.000000000"
      ]
     },
     "metadata": {},
     "output_type": "display_data"
    }
   ],
   "source": [
    "(decays <- 10^seq(-3,0,by=0.1))"
   ]
  },
  {
   "cell_type": "markdown",
   "metadata": {},
   "source": [
    " WARNING: this takes a few minutes"
   ]
  },
  {
   "cell_type": "code",
   "execution_count": 82,
   "metadata": {
    "ExecuteTime": {
     "end_time": "2019-09-05T07:36:03.378691Z",
     "start_time": "2019-09-05T07:29:10.882Z"
    }
   },
   "outputs": [],
   "source": [
    "model.10x10CV <- train (perm ~., \n",
    "                        data = rockScale, \n",
    "                        subset=learn, \n",
    "                        method='nnet', \n",
    "                        maxit = 500, \n",
    "                        trace = FALSE,\n",
    "                        tuneGrid = expand.grid(.size=4,.decay=decays), \n",
    "                        trControl=trc)"
   ]
  },
  {
   "cell_type": "markdown",
   "metadata": {},
   "source": [
    "We can inspect the full results"
   ]
  },
  {
   "cell_type": "code",
   "execution_count": 83,
   "metadata": {
    "ExecuteTime": {
     "end_time": "2019-09-05T07:36:03.516626Z",
     "start_time": "2019-09-05T07:29:11.119Z"
    }
   },
   "outputs": [
    {
     "data": {
      "text/html": [
       "<table>\n",
       "<caption>A data.frame: 31 × 8</caption>\n",
       "<thead>\n",
       "\t<tr><th scope=col>size</th><th scope=col>decay</th><th scope=col>RMSE</th><th scope=col>Rsquared</th><th scope=col>MAE</th><th scope=col>RMSESD</th><th scope=col>RsquaredSD</th><th scope=col>MAESD</th></tr>\n",
       "\t<tr><th scope=col>&lt;dbl&gt;</th><th scope=col>&lt;dbl&gt;</th><th scope=col>&lt;dbl&gt;</th><th scope=col>&lt;dbl&gt;</th><th scope=col>&lt;dbl&gt;</th><th scope=col>&lt;dbl&gt;</th><th scope=col>&lt;dbl&gt;</th><th scope=col>&lt;dbl&gt;</th></tr>\n",
       "</thead>\n",
       "<tbody>\n",
       "\t<tr><td>4</td><td>0.001000000</td><td>0.8482192</td><td>0.7077581</td><td>0.7772288</td><td>0.2401889</td><td>0.3512318</td><td>0.2286116</td></tr>\n",
       "\t<tr><td>4</td><td>0.001258925</td><td>0.8503378</td><td>0.7196646</td><td>0.7758277</td><td>0.2466863</td><td>0.3433773</td><td>0.2307740</td></tr>\n",
       "\t<tr><td>4</td><td>0.001584893</td><td>0.8532749</td><td>0.7061067</td><td>0.7802644</td><td>0.2463444</td><td>0.3590701</td><td>0.2317907</td></tr>\n",
       "\t<tr><td>4</td><td>0.001995262</td><td>0.8478928</td><td>0.7267785</td><td>0.7743717</td><td>0.2371077</td><td>0.3377564</td><td>0.2218633</td></tr>\n",
       "\t<tr><td>4</td><td>0.002511886</td><td>0.8401026</td><td>0.7281255</td><td>0.7732177</td><td>0.2348601</td><td>0.3464456</td><td>0.2231760</td></tr>\n",
       "\t<tr><td>4</td><td>0.003162278</td><td>0.8398366</td><td>0.7197382</td><td>0.7735324</td><td>0.2447607</td><td>0.3487855</td><td>0.2268941</td></tr>\n",
       "\t<tr><td>4</td><td>0.003981072</td><td>0.8182338</td><td>0.7433650</td><td>0.7490027</td><td>0.2393347</td><td>0.3264302</td><td>0.2228816</td></tr>\n",
       "\t<tr><td>4</td><td>0.005011872</td><td>0.8117405</td><td>0.7527909</td><td>0.7431755</td><td>0.2376750</td><td>0.3251022</td><td>0.2198200</td></tr>\n",
       "\t<tr><td>4</td><td>0.006309573</td><td>0.7931436</td><td>0.7784552</td><td>0.7286804</td><td>0.2300820</td><td>0.3041619</td><td>0.2167109</td></tr>\n",
       "\t<tr><td>4</td><td>0.007943282</td><td>0.7925984</td><td>0.7792985</td><td>0.7287159</td><td>0.2326948</td><td>0.3026217</td><td>0.2190644</td></tr>\n",
       "\t<tr><td>4</td><td>0.010000000</td><td>0.7886615</td><td>0.7850086</td><td>0.7261379</td><td>0.2214945</td><td>0.2886088</td><td>0.2077773</td></tr>\n",
       "\t<tr><td>4</td><td>0.012589254</td><td>0.7888225</td><td>0.7918755</td><td>0.7263880</td><td>0.2199130</td><td>0.2877171</td><td>0.2050537</td></tr>\n",
       "\t<tr><td>4</td><td>0.015848932</td><td>0.7878787</td><td>0.7945454</td><td>0.7258249</td><td>0.2199795</td><td>0.2906197</td><td>0.2072885</td></tr>\n",
       "\t<tr><td>4</td><td>0.019952623</td><td>0.7876797</td><td>0.8013051</td><td>0.7261017</td><td>0.2078265</td><td>0.2896600</td><td>0.1978639</td></tr>\n",
       "\t<tr><td>4</td><td>0.025118864</td><td>0.7895415</td><td>0.8071390</td><td>0.7274535</td><td>0.2042978</td><td>0.2860716</td><td>0.1953810</td></tr>\n",
       "\t<tr><td>4</td><td>0.031622777</td><td>0.7940019</td><td>0.8096487</td><td>0.7329210</td><td>0.1979534</td><td>0.2892729</td><td>0.1905611</td></tr>\n",
       "\t<tr><td>4</td><td>0.039810717</td><td>0.7958616</td><td>0.8105432</td><td>0.7352536</td><td>0.1912488</td><td>0.2884882</td><td>0.1861318</td></tr>\n",
       "\t<tr><td>4</td><td>0.050118723</td><td>0.7974549</td><td>0.8161977</td><td>0.7371224</td><td>0.1843183</td><td>0.2840784</td><td>0.1811094</td></tr>\n",
       "\t<tr><td>4</td><td>0.063095734</td><td>0.7985141</td><td>0.8194110</td><td>0.7393339</td><td>0.1780853</td><td>0.2834482</td><td>0.1765439</td></tr>\n",
       "\t<tr><td>4</td><td>0.079432823</td><td>0.8001427</td><td>0.8233291</td><td>0.7415323</td><td>0.1733632</td><td>0.2829284</td><td>0.1740263</td></tr>\n",
       "\t<tr><td>4</td><td>0.100000000</td><td>0.8024885</td><td>0.8271680</td><td>0.7440414</td><td>0.1697504</td><td>0.2837005</td><td>0.1722681</td></tr>\n",
       "\t<tr><td>4</td><td>0.125892541</td><td>0.8062811</td><td>0.8275472</td><td>0.7482041</td><td>0.1669622</td><td>0.2866803</td><td>0.1718627</td></tr>\n",
       "\t<tr><td>4</td><td>0.158489319</td><td>0.8132881</td><td>0.8291407</td><td>0.7546219</td><td>0.1676571</td><td>0.2892627</td><td>0.1755468</td></tr>\n",
       "\t<tr><td>4</td><td>0.199526231</td><td>0.8194283</td><td>0.8282367</td><td>0.7616614</td><td>0.1666388</td><td>0.2927026</td><td>0.1774052</td></tr>\n",
       "\t<tr><td>4</td><td>0.251188643</td><td>0.8315946</td><td>0.8280649</td><td>0.7718570</td><td>0.1695062</td><td>0.2938926</td><td>0.1841136</td></tr>\n",
       "\t<tr><td>4</td><td>0.316227766</td><td>0.8422008</td><td>0.8267238</td><td>0.7822916</td><td>0.1719217</td><td>0.2961955</td><td>0.1901348</td></tr>\n",
       "\t<tr><td>4</td><td>0.398107171</td><td>0.8588898</td><td>0.8252211</td><td>0.8004983</td><td>0.1763386</td><td>0.2962887</td><td>0.1942736</td></tr>\n",
       "\t<tr><td>4</td><td>0.501187234</td><td>0.8757543</td><td>0.8221963</td><td>0.8175318</td><td>0.1833704</td><td>0.2982794</td><td>0.2021065</td></tr>\n",
       "\t<tr><td>4</td><td>0.630957344</td><td>0.9006567</td><td>0.8180029</td><td>0.8441050</td><td>0.1872314</td><td>0.2980020</td><td>0.2048274</td></tr>\n",
       "\t<tr><td>4</td><td>0.794328235</td><td>0.9203181</td><td>0.8140682</td><td>0.8661430</td><td>0.1890395</td><td>0.2973874</td><td>0.2046274</td></tr>\n",
       "\t<tr><td>4</td><td>1.000000000</td><td>0.9337942</td><td>0.8085519</td><td>0.8824617</td><td>0.1907981</td><td>0.2983237</td><td>0.2049718</td></tr>\n",
       "</tbody>\n",
       "</table>\n"
      ],
      "text/latex": [
       "A data.frame: 31 × 8\n",
       "\\begin{tabular}{r|llllllll}\n",
       " size & decay & RMSE & Rsquared & MAE & RMSESD & RsquaredSD & MAESD\\\\\n",
       " <dbl> & <dbl> & <dbl> & <dbl> & <dbl> & <dbl> & <dbl> & <dbl>\\\\\n",
       "\\hline\n",
       "\t 4 & 0.001000000 & 0.8482192 & 0.7077581 & 0.7772288 & 0.2401889 & 0.3512318 & 0.2286116\\\\\n",
       "\t 4 & 0.001258925 & 0.8503378 & 0.7196646 & 0.7758277 & 0.2466863 & 0.3433773 & 0.2307740\\\\\n",
       "\t 4 & 0.001584893 & 0.8532749 & 0.7061067 & 0.7802644 & 0.2463444 & 0.3590701 & 0.2317907\\\\\n",
       "\t 4 & 0.001995262 & 0.8478928 & 0.7267785 & 0.7743717 & 0.2371077 & 0.3377564 & 0.2218633\\\\\n",
       "\t 4 & 0.002511886 & 0.8401026 & 0.7281255 & 0.7732177 & 0.2348601 & 0.3464456 & 0.2231760\\\\\n",
       "\t 4 & 0.003162278 & 0.8398366 & 0.7197382 & 0.7735324 & 0.2447607 & 0.3487855 & 0.2268941\\\\\n",
       "\t 4 & 0.003981072 & 0.8182338 & 0.7433650 & 0.7490027 & 0.2393347 & 0.3264302 & 0.2228816\\\\\n",
       "\t 4 & 0.005011872 & 0.8117405 & 0.7527909 & 0.7431755 & 0.2376750 & 0.3251022 & 0.2198200\\\\\n",
       "\t 4 & 0.006309573 & 0.7931436 & 0.7784552 & 0.7286804 & 0.2300820 & 0.3041619 & 0.2167109\\\\\n",
       "\t 4 & 0.007943282 & 0.7925984 & 0.7792985 & 0.7287159 & 0.2326948 & 0.3026217 & 0.2190644\\\\\n",
       "\t 4 & 0.010000000 & 0.7886615 & 0.7850086 & 0.7261379 & 0.2214945 & 0.2886088 & 0.2077773\\\\\n",
       "\t 4 & 0.012589254 & 0.7888225 & 0.7918755 & 0.7263880 & 0.2199130 & 0.2877171 & 0.2050537\\\\\n",
       "\t 4 & 0.015848932 & 0.7878787 & 0.7945454 & 0.7258249 & 0.2199795 & 0.2906197 & 0.2072885\\\\\n",
       "\t 4 & 0.019952623 & 0.7876797 & 0.8013051 & 0.7261017 & 0.2078265 & 0.2896600 & 0.1978639\\\\\n",
       "\t 4 & 0.025118864 & 0.7895415 & 0.8071390 & 0.7274535 & 0.2042978 & 0.2860716 & 0.1953810\\\\\n",
       "\t 4 & 0.031622777 & 0.7940019 & 0.8096487 & 0.7329210 & 0.1979534 & 0.2892729 & 0.1905611\\\\\n",
       "\t 4 & 0.039810717 & 0.7958616 & 0.8105432 & 0.7352536 & 0.1912488 & 0.2884882 & 0.1861318\\\\\n",
       "\t 4 & 0.050118723 & 0.7974549 & 0.8161977 & 0.7371224 & 0.1843183 & 0.2840784 & 0.1811094\\\\\n",
       "\t 4 & 0.063095734 & 0.7985141 & 0.8194110 & 0.7393339 & 0.1780853 & 0.2834482 & 0.1765439\\\\\n",
       "\t 4 & 0.079432823 & 0.8001427 & 0.8233291 & 0.7415323 & 0.1733632 & 0.2829284 & 0.1740263\\\\\n",
       "\t 4 & 0.100000000 & 0.8024885 & 0.8271680 & 0.7440414 & 0.1697504 & 0.2837005 & 0.1722681\\\\\n",
       "\t 4 & 0.125892541 & 0.8062811 & 0.8275472 & 0.7482041 & 0.1669622 & 0.2866803 & 0.1718627\\\\\n",
       "\t 4 & 0.158489319 & 0.8132881 & 0.8291407 & 0.7546219 & 0.1676571 & 0.2892627 & 0.1755468\\\\\n",
       "\t 4 & 0.199526231 & 0.8194283 & 0.8282367 & 0.7616614 & 0.1666388 & 0.2927026 & 0.1774052\\\\\n",
       "\t 4 & 0.251188643 & 0.8315946 & 0.8280649 & 0.7718570 & 0.1695062 & 0.2938926 & 0.1841136\\\\\n",
       "\t 4 & 0.316227766 & 0.8422008 & 0.8267238 & 0.7822916 & 0.1719217 & 0.2961955 & 0.1901348\\\\\n",
       "\t 4 & 0.398107171 & 0.8588898 & 0.8252211 & 0.8004983 & 0.1763386 & 0.2962887 & 0.1942736\\\\\n",
       "\t 4 & 0.501187234 & 0.8757543 & 0.8221963 & 0.8175318 & 0.1833704 & 0.2982794 & 0.2021065\\\\\n",
       "\t 4 & 0.630957344 & 0.9006567 & 0.8180029 & 0.8441050 & 0.1872314 & 0.2980020 & 0.2048274\\\\\n",
       "\t 4 & 0.794328235 & 0.9203181 & 0.8140682 & 0.8661430 & 0.1890395 & 0.2973874 & 0.2046274\\\\\n",
       "\t 4 & 1.000000000 & 0.9337942 & 0.8085519 & 0.8824617 & 0.1907981 & 0.2983237 & 0.2049718\\\\\n",
       "\\end{tabular}\n"
      ],
      "text/markdown": [
       "\n",
       "A data.frame: 31 × 8\n",
       "\n",
       "| size &lt;dbl&gt; | decay &lt;dbl&gt; | RMSE &lt;dbl&gt; | Rsquared &lt;dbl&gt; | MAE &lt;dbl&gt; | RMSESD &lt;dbl&gt; | RsquaredSD &lt;dbl&gt; | MAESD &lt;dbl&gt; |\n",
       "|---|---|---|---|---|---|---|---|\n",
       "| 4 | 0.001000000 | 0.8482192 | 0.7077581 | 0.7772288 | 0.2401889 | 0.3512318 | 0.2286116 |\n",
       "| 4 | 0.001258925 | 0.8503378 | 0.7196646 | 0.7758277 | 0.2466863 | 0.3433773 | 0.2307740 |\n",
       "| 4 | 0.001584893 | 0.8532749 | 0.7061067 | 0.7802644 | 0.2463444 | 0.3590701 | 0.2317907 |\n",
       "| 4 | 0.001995262 | 0.8478928 | 0.7267785 | 0.7743717 | 0.2371077 | 0.3377564 | 0.2218633 |\n",
       "| 4 | 0.002511886 | 0.8401026 | 0.7281255 | 0.7732177 | 0.2348601 | 0.3464456 | 0.2231760 |\n",
       "| 4 | 0.003162278 | 0.8398366 | 0.7197382 | 0.7735324 | 0.2447607 | 0.3487855 | 0.2268941 |\n",
       "| 4 | 0.003981072 | 0.8182338 | 0.7433650 | 0.7490027 | 0.2393347 | 0.3264302 | 0.2228816 |\n",
       "| 4 | 0.005011872 | 0.8117405 | 0.7527909 | 0.7431755 | 0.2376750 | 0.3251022 | 0.2198200 |\n",
       "| 4 | 0.006309573 | 0.7931436 | 0.7784552 | 0.7286804 | 0.2300820 | 0.3041619 | 0.2167109 |\n",
       "| 4 | 0.007943282 | 0.7925984 | 0.7792985 | 0.7287159 | 0.2326948 | 0.3026217 | 0.2190644 |\n",
       "| 4 | 0.010000000 | 0.7886615 | 0.7850086 | 0.7261379 | 0.2214945 | 0.2886088 | 0.2077773 |\n",
       "| 4 | 0.012589254 | 0.7888225 | 0.7918755 | 0.7263880 | 0.2199130 | 0.2877171 | 0.2050537 |\n",
       "| 4 | 0.015848932 | 0.7878787 | 0.7945454 | 0.7258249 | 0.2199795 | 0.2906197 | 0.2072885 |\n",
       "| 4 | 0.019952623 | 0.7876797 | 0.8013051 | 0.7261017 | 0.2078265 | 0.2896600 | 0.1978639 |\n",
       "| 4 | 0.025118864 | 0.7895415 | 0.8071390 | 0.7274535 | 0.2042978 | 0.2860716 | 0.1953810 |\n",
       "| 4 | 0.031622777 | 0.7940019 | 0.8096487 | 0.7329210 | 0.1979534 | 0.2892729 | 0.1905611 |\n",
       "| 4 | 0.039810717 | 0.7958616 | 0.8105432 | 0.7352536 | 0.1912488 | 0.2884882 | 0.1861318 |\n",
       "| 4 | 0.050118723 | 0.7974549 | 0.8161977 | 0.7371224 | 0.1843183 | 0.2840784 | 0.1811094 |\n",
       "| 4 | 0.063095734 | 0.7985141 | 0.8194110 | 0.7393339 | 0.1780853 | 0.2834482 | 0.1765439 |\n",
       "| 4 | 0.079432823 | 0.8001427 | 0.8233291 | 0.7415323 | 0.1733632 | 0.2829284 | 0.1740263 |\n",
       "| 4 | 0.100000000 | 0.8024885 | 0.8271680 | 0.7440414 | 0.1697504 | 0.2837005 | 0.1722681 |\n",
       "| 4 | 0.125892541 | 0.8062811 | 0.8275472 | 0.7482041 | 0.1669622 | 0.2866803 | 0.1718627 |\n",
       "| 4 | 0.158489319 | 0.8132881 | 0.8291407 | 0.7546219 | 0.1676571 | 0.2892627 | 0.1755468 |\n",
       "| 4 | 0.199526231 | 0.8194283 | 0.8282367 | 0.7616614 | 0.1666388 | 0.2927026 | 0.1774052 |\n",
       "| 4 | 0.251188643 | 0.8315946 | 0.8280649 | 0.7718570 | 0.1695062 | 0.2938926 | 0.1841136 |\n",
       "| 4 | 0.316227766 | 0.8422008 | 0.8267238 | 0.7822916 | 0.1719217 | 0.2961955 | 0.1901348 |\n",
       "| 4 | 0.398107171 | 0.8588898 | 0.8252211 | 0.8004983 | 0.1763386 | 0.2962887 | 0.1942736 |\n",
       "| 4 | 0.501187234 | 0.8757543 | 0.8221963 | 0.8175318 | 0.1833704 | 0.2982794 | 0.2021065 |\n",
       "| 4 | 0.630957344 | 0.9006567 | 0.8180029 | 0.8441050 | 0.1872314 | 0.2980020 | 0.2048274 |\n",
       "| 4 | 0.794328235 | 0.9203181 | 0.8140682 | 0.8661430 | 0.1890395 | 0.2973874 | 0.2046274 |\n",
       "| 4 | 1.000000000 | 0.9337942 | 0.8085519 | 0.8824617 | 0.1907981 | 0.2983237 | 0.2049718 |\n",
       "\n"
      ],
      "text/plain": [
       "   size decay       RMSE      Rsquared  MAE       RMSESD    RsquaredSD\n",
       "1  4    0.001000000 0.8482192 0.7077581 0.7772288 0.2401889 0.3512318 \n",
       "2  4    0.001258925 0.8503378 0.7196646 0.7758277 0.2466863 0.3433773 \n",
       "3  4    0.001584893 0.8532749 0.7061067 0.7802644 0.2463444 0.3590701 \n",
       "4  4    0.001995262 0.8478928 0.7267785 0.7743717 0.2371077 0.3377564 \n",
       "5  4    0.002511886 0.8401026 0.7281255 0.7732177 0.2348601 0.3464456 \n",
       "6  4    0.003162278 0.8398366 0.7197382 0.7735324 0.2447607 0.3487855 \n",
       "7  4    0.003981072 0.8182338 0.7433650 0.7490027 0.2393347 0.3264302 \n",
       "8  4    0.005011872 0.8117405 0.7527909 0.7431755 0.2376750 0.3251022 \n",
       "9  4    0.006309573 0.7931436 0.7784552 0.7286804 0.2300820 0.3041619 \n",
       "10 4    0.007943282 0.7925984 0.7792985 0.7287159 0.2326948 0.3026217 \n",
       "11 4    0.010000000 0.7886615 0.7850086 0.7261379 0.2214945 0.2886088 \n",
       "12 4    0.012589254 0.7888225 0.7918755 0.7263880 0.2199130 0.2877171 \n",
       "13 4    0.015848932 0.7878787 0.7945454 0.7258249 0.2199795 0.2906197 \n",
       "14 4    0.019952623 0.7876797 0.8013051 0.7261017 0.2078265 0.2896600 \n",
       "15 4    0.025118864 0.7895415 0.8071390 0.7274535 0.2042978 0.2860716 \n",
       "16 4    0.031622777 0.7940019 0.8096487 0.7329210 0.1979534 0.2892729 \n",
       "17 4    0.039810717 0.7958616 0.8105432 0.7352536 0.1912488 0.2884882 \n",
       "18 4    0.050118723 0.7974549 0.8161977 0.7371224 0.1843183 0.2840784 \n",
       "19 4    0.063095734 0.7985141 0.8194110 0.7393339 0.1780853 0.2834482 \n",
       "20 4    0.079432823 0.8001427 0.8233291 0.7415323 0.1733632 0.2829284 \n",
       "21 4    0.100000000 0.8024885 0.8271680 0.7440414 0.1697504 0.2837005 \n",
       "22 4    0.125892541 0.8062811 0.8275472 0.7482041 0.1669622 0.2866803 \n",
       "23 4    0.158489319 0.8132881 0.8291407 0.7546219 0.1676571 0.2892627 \n",
       "24 4    0.199526231 0.8194283 0.8282367 0.7616614 0.1666388 0.2927026 \n",
       "25 4    0.251188643 0.8315946 0.8280649 0.7718570 0.1695062 0.2938926 \n",
       "26 4    0.316227766 0.8422008 0.8267238 0.7822916 0.1719217 0.2961955 \n",
       "27 4    0.398107171 0.8588898 0.8252211 0.8004983 0.1763386 0.2962887 \n",
       "28 4    0.501187234 0.8757543 0.8221963 0.8175318 0.1833704 0.2982794 \n",
       "29 4    0.630957344 0.9006567 0.8180029 0.8441050 0.1872314 0.2980020 \n",
       "30 4    0.794328235 0.9203181 0.8140682 0.8661430 0.1890395 0.2973874 \n",
       "31 4    1.000000000 0.9337942 0.8085519 0.8824617 0.1907981 0.2983237 \n",
       "   MAESD    \n",
       "1  0.2286116\n",
       "2  0.2307740\n",
       "3  0.2317907\n",
       "4  0.2218633\n",
       "5  0.2231760\n",
       "6  0.2268941\n",
       "7  0.2228816\n",
       "8  0.2198200\n",
       "9  0.2167109\n",
       "10 0.2190644\n",
       "11 0.2077773\n",
       "12 0.2050537\n",
       "13 0.2072885\n",
       "14 0.1978639\n",
       "15 0.1953810\n",
       "16 0.1905611\n",
       "17 0.1861318\n",
       "18 0.1811094\n",
       "19 0.1765439\n",
       "20 0.1740263\n",
       "21 0.1722681\n",
       "22 0.1718627\n",
       "23 0.1755468\n",
       "24 0.1774052\n",
       "25 0.1841136\n",
       "26 0.1901348\n",
       "27 0.1942736\n",
       "28 0.2021065\n",
       "29 0.2048274\n",
       "30 0.2046274\n",
       "31 0.2049718"
      ]
     },
     "metadata": {},
     "output_type": "display_data"
    }
   ],
   "source": [
    "model.10x10CV$results"
   ]
  },
  {
   "cell_type": "markdown",
   "metadata": {},
   "source": [
    "and the best model found"
   ]
  },
  {
   "cell_type": "code",
   "execution_count": 84,
   "metadata": {
    "ExecuteTime": {
     "end_time": "2019-09-05T07:36:03.652453Z",
     "start_time": "2019-09-05T07:29:11.347Z"
    }
   },
   "outputs": [
    {
     "data": {
      "text/html": [
       "<table>\n",
       "<caption>A data.frame: 1 × 2</caption>\n",
       "<thead>\n",
       "\t<tr><th></th><th scope=col>size</th><th scope=col>decay</th></tr>\n",
       "\t<tr><th></th><th scope=col>&lt;dbl&gt;</th><th scope=col>&lt;dbl&gt;</th></tr>\n",
       "</thead>\n",
       "<tbody>\n",
       "\t<tr><th scope=row>14</th><td>4</td><td>0.01995262</td></tr>\n",
       "</tbody>\n",
       "</table>\n"
      ],
      "text/latex": [
       "A data.frame: 1 × 2\n",
       "\\begin{tabular}{r|ll}\n",
       "  & size & decay\\\\\n",
       "  & <dbl> & <dbl>\\\\\n",
       "\\hline\n",
       "\t14 & 4 & 0.01995262\\\\\n",
       "\\end{tabular}\n"
      ],
      "text/markdown": [
       "\n",
       "A data.frame: 1 × 2\n",
       "\n",
       "| <!--/--> | size &lt;dbl&gt; | decay &lt;dbl&gt; |\n",
       "|---|---|---|\n",
       "| 14 | 4 | 0.01995262 |\n",
       "\n"
      ],
      "text/plain": [
       "   size decay     \n",
       "14 4    0.01995262"
      ]
     },
     "metadata": {},
     "output_type": "display_data"
    }
   ],
   "source": [
    "model.10x10CV$bestTune\n",
    "\n",
    "save(model.10x10CV, file = \"model.10x10CV.regul\")\n",
    "\n",
    "load (\"model.10x10CV.regul\")"
   ]
  },
  {
   "cell_type": "markdown",
   "metadata": {},
   "source": [
    " The results are a bit better; we should choose the model with the lowest 10x10CV error overall,\n",
    " in this case it corresponds to 20 hidden neurons, with a decay of 0.3162278\n",
    "\n",
    " So what remains is to predict the test set with our final model"
   ]
  },
  {
   "cell_type": "code",
   "execution_count": 86,
   "metadata": {
    "ExecuteTime": {
     "end_time": "2019-09-05T07:36:03.683120Z",
     "start_time": "2019-09-05T07:29:11.575Z"
    }
   },
   "outputs": [
    {
     "data": {
      "text/html": [
       "100"
      ],
      "text/latex": [
       "100"
      ],
      "text/markdown": [
       "100"
      ],
      "text/plain": [
       "[1] 100"
      ]
     },
     "metadata": {},
     "output_type": "display_data"
    }
   ],
   "source": [
    "p2 <- as.factor(predict (model.10x10CV, newdata=rockScale[-learn,], type=\"raw\"))\n",
    "\n",
    "t2 <- table(pred=p2,truth=rockScale$perm[-learn])\n",
    "error_rate.test <- 100*(1-sum(diag(t2))/ntest)\n",
    "error_rate.test\n"
   ]
  },
  {
   "cell_type": "markdown",
   "metadata": {},
   "source": [
    " We get 27.82% after all this work; it seems that the information in this dataset is not enough\n",
    " to accurately predict admittance. Note that ...\n",
    "\n",
    " ... upon looking at the confusion matrix for the predictions ..."
   ]
  },
  {
   "cell_type": "code",
   "execution_count": 87,
   "metadata": {},
   "outputs": [
    {
     "data": {
      "text/plain": [
       "                     truth\n",
       "pred                  -0.909852482623065 -0.815064286240845 -0.760703826628874\n",
       "  0.00131762979251415                  0                  0                  0\n",
       "  0.00156794739696169                  1                  0                  0\n",
       "  0.00174738646178539                  0                  0                  0\n",
       "  0.00201868085456734                  0                  1                  0\n",
       "  0.00205597099407289                  0                  1                  0\n",
       "  0.00249251475401267                  0                  0                  1\n",
       "  0.0034092636150443                   0                  0                  1\n",
       "  0.00352084485782655                  0                  0                  0\n",
       "  0.12828485798331                     0                  0                  0\n",
       "  0.169593965368266                    0                  0                  0\n",
       "  0.385896440132167                    0                  0                  0\n",
       "  0.941224592818482                    0                  0                  0\n",
       "  0.970259389821055                    0                  0                  0\n",
       "  0.971098945014371                    0                  0                  0\n",
       "  0.97204472441452                     0                  0                  0\n",
       "  0.985747748120931                    0                  0                  0\n",
       "                     truth\n",
       "pred                  -0.720504495151113 -0.677107489578531 0.375840908787813\n",
       "  0.00131762979251415                  0                  1                 0\n",
       "  0.00156794739696169                  0                  0                 0\n",
       "  0.00174738646178539                  0                  1                 0\n",
       "  0.00201868085456734                  0                  0                 0\n",
       "  0.00205597099407289                  0                  0                 0\n",
       "  0.00249251475401267                  0                  0                 0\n",
       "  0.0034092636150443                   0                  0                 0\n",
       "  0.00352084485782655                  0                  1                 0\n",
       "  0.12828485798331                     1                  0                 0\n",
       "  0.169593965368266                    0                  0                 0\n",
       "  0.385896440132167                    0                  0                 1\n",
       "  0.941224592818482                    0                  0                 0\n",
       "  0.970259389821055                    0                  0                 0\n",
       "  0.971098945014371                    1                  0                 0\n",
       "  0.97204472441452                     0                  0                 0\n",
       "  0.985747748120931                    0                  0                 0\n",
       "                     truth\n",
       "pred                  0.741289376767455 1.08389731549837 2.0203590146962\n",
       "  0.00131762979251415                 0                0               0\n",
       "  0.00156794739696169                 0                0               0\n",
       "  0.00174738646178539                 0                0               0\n",
       "  0.00201868085456734                 0                0               0\n",
       "  0.00205597099407289                 0                0               0\n",
       "  0.00249251475401267                 0                0               0\n",
       "  0.0034092636150443                  0                0               0\n",
       "  0.00352084485782655                 0                0               0\n",
       "  0.12828485798331                    0                0               0\n",
       "  0.169593965368266                   1                0               0\n",
       "  0.385896440132167                   0                0               0\n",
       "  0.941224592818482                   0                1               0\n",
       "  0.970259389821055                   0                1               0\n",
       "  0.971098945014371                   0                0               0\n",
       "  0.97204472441452                    0                0               1\n",
       "  0.985747748120931                   0                0               1"
      ]
     },
     "metadata": {},
     "output_type": "display_data"
    }
   ],
   "source": [
    "t2"
   ]
  },
  {
   "cell_type": "code",
   "execution_count": 88,
   "metadata": {
    "ExecuteTime": {
     "end_time": "2019-09-05T07:36:03.701988Z",
     "start_time": "2019-09-05T07:29:11.807Z"
    }
   },
   "outputs": [
    {
     "data": {
      "text/html": [
       "100"
      ],
      "text/latex": [
       "100"
      ],
      "text/markdown": [
       "100"
      ],
      "text/plain": [
       "[1] 100"
      ]
     },
     "metadata": {},
     "output_type": "display_data"
    },
    {
     "data": {
      "text/plain": [
       "                     truth\n",
       "pred                  -0.909852482623065 -0.815064286240845 -0.760703826628874\n",
       "  0.00131762979251415                  0                  0                  0\n",
       "  0.00156794739696169                  1                  0                  0\n",
       "  0.00174738646178539                  0                  0                  0\n",
       "  0.00201868085456734                  0                  1                  0\n",
       "  0.00205597099407289                  0                  1                  0\n",
       "  0.00249251475401267                  0                  0                  1\n",
       "  0.0034092636150443                   0                  0                  1\n",
       "  0.00352084485782655                  0                  0                  0\n",
       "  0.12828485798331                     0                  0                  0\n",
       "  0.169593965368266                    0                  0                  0\n",
       "  0.385896440132167                    0                  0                  0\n",
       "  0.941224592818482                    0                  0                  0\n",
       "  0.970259389821055                    0                  0                  0\n",
       "  0.971098945014371                    0                  0                  0\n",
       "  0.97204472441452                     0                  0                  0\n",
       "  0.985747748120931                    0                  0                  0\n",
       "                     truth\n",
       "pred                  -0.720504495151113 -0.677107489578531 0.375840908787813\n",
       "  0.00131762979251415                  0                  1                 0\n",
       "  0.00156794739696169                  0                  0                 0\n",
       "  0.00174738646178539                  0                  1                 0\n",
       "  0.00201868085456734                  0                  0                 0\n",
       "  0.00205597099407289                  0                  0                 0\n",
       "  0.00249251475401267                  0                  0                 0\n",
       "  0.0034092636150443                   0                  0                 0\n",
       "  0.00352084485782655                  0                  1                 0\n",
       "  0.12828485798331                     1                  0                 0\n",
       "  0.169593965368266                    0                  0                 0\n",
       "  0.385896440132167                    0                  0                 1\n",
       "  0.941224592818482                    0                  0                 0\n",
       "  0.970259389821055                    0                  0                 0\n",
       "  0.971098945014371                    1                  0                 0\n",
       "  0.97204472441452                     0                  0                 0\n",
       "  0.985747748120931                    0                  0                 0\n",
       "                     truth\n",
       "pred                  0.741289376767455 1.08389731549837 2.0203590146962\n",
       "  0.00131762979251415                 0                0               0\n",
       "  0.00156794739696169                 0                0               0\n",
       "  0.00174738646178539                 0                0               0\n",
       "  0.00201868085456734                 0                0               0\n",
       "  0.00205597099407289                 0                0               0\n",
       "  0.00249251475401267                 0                0               0\n",
       "  0.0034092636150443                  0                0               0\n",
       "  0.00352084485782655                 0                0               0\n",
       "  0.12828485798331                    0                0               0\n",
       "  0.169593965368266                   1                0               0\n",
       "  0.385896440132167                   0                0               0\n",
       "  0.941224592818482                   0                1               0\n",
       "  0.970259389821055                   0                1               0\n",
       "  0.971098945014371                   0                0               0\n",
       "  0.97204472441452                    0                0               1\n",
       "  0.985747748120931                   0                0               1"
      ]
     },
     "metadata": {},
     "output_type": "display_data"
    }
   ],
   "source": [
    "yhat <- as.numeric(predict(model.10x10CV, newdata=rockScale[-learn,], type=\"raw\"))\n",
    "\n",
    "yhat2 <- table(pred=yhat,truth=rockScale$perm[-learn])\n",
    "error_rate.test <- 100*(1-sum(diag(yhat2))/ntest)\n",
    "error_rate.test\n",
    "yhat2"
   ]
  },
  {
   "cell_type": "markdown",
   "metadata": {},
   "source": [
    " it clearly suggests that quite a lot of people is getting accepted when they should not, given their gre, gpa and rank\n",
    " It is very likely that other (subjective?) factors are being taken into account, that are not in the dataset"
   ]
  },
  {
   "cell_type": "markdown",
   "metadata": {},
   "source": [
    "***"
   ]
  },
  {
   "cell_type": "code",
   "execution_count": null,
   "metadata": {},
   "outputs": [],
   "source": []
  },
  {
   "cell_type": "code",
   "execution_count": null,
   "metadata": {},
   "outputs": [],
   "source": []
  },
  {
   "cell_type": "code",
   "execution_count": null,
   "metadata": {},
   "outputs": [],
   "source": []
  }
 ],
 "metadata": {
  "kernelspec": {
   "display_name": "R",
   "language": "R",
   "name": "ir"
  },
  "language_info": {
   "codemirror_mode": "r",
   "file_extension": ".r",
   "mimetype": "text/x-r-source",
   "name": "R",
   "pygments_lexer": "r",
   "version": "3.6.1"
  },
  "latex_envs": {
   "LaTeX_envs_menu_present": true,
   "autoclose": false,
   "autocomplete": true,
   "bibliofile": "biblio.bib",
   "cite_by": "apalike",
   "current_citInitial": 1,
   "eqLabelWithNumbers": true,
   "eqNumInitial": 1,
   "hotkeys": {
    "equation": "Ctrl-E",
    "itemize": "Ctrl-I"
   },
   "labels_anchors": false,
   "latex_user_defs": false,
   "report_style_numbering": false,
   "user_envs_cfg": false
  },
  "toc": {
   "base_numbering": 1,
   "nav_menu": {
    "height": "100px",
    "width": "252px"
   },
   "number_sections": true,
   "sideBar": true,
   "skip_h1_title": false,
   "title_cell": "Table of Contents",
   "title_sidebar": "Contents",
   "toc_cell": false,
   "toc_position": {},
   "toc_section_display": "block",
   "toc_window_display": true
  }
 },
 "nbformat": 4,
 "nbformat_minor": 2
}
